{
 "cells": [
  {
   "cell_type": "code",
   "execution_count": 8,
   "metadata": {},
   "outputs": [
    {
     "name": "stdout",
     "output_type": "stream",
     "text": [
      "GPU 0: Tesla V100-PCIE-32GB (UUID: GPU-cdfa375c-ed7a-44a9-71a3-8be9a7573878)\n"
     ]
    }
   ],
   "source": [
    "!nvidia-smi -L"
   ]
  },
  {
   "cell_type": "code",
   "execution_count": 9,
   "metadata": {},
   "outputs": [
    {
     "name": "stdout",
     "output_type": "stream",
     "text": [
      "/home/FYP/siddhant005/.conda/envs/retagnn_pyg/bin/python\n"
     ]
    }
   ],
   "source": [
    "!which python"
   ]
  },
  {
   "cell_type": "code",
   "execution_count": 10,
   "metadata": {},
   "outputs": [],
   "source": [
    "        # node_emb: [batch_size, node_dim] or [batch_size, L, node_dim]\n",
    "        # node_time_emb: [batch_size, components, time_emb]\n",
    "# !python tgat/process.py "
   ]
  },
  {
   "cell_type": "code",
   "execution_count": 15,
   "metadata": {},
   "outputs": [
    {
     "name": "stdout",
     "output_type": "stream",
     "text": [
      "INFO:root:Namespace(data='wikipedia', bs=200, prefix='cross_self_attn', n_degree=20, n_head=2, n_epoch=50, n_layer=2, lr=0.0001, drop_out=0.1, gpu=0, node_dim=100, time_dim=100, agg_method='attn', attn_mode='prod', time='time', uniform=True)\n",
      "INFO:model.TGAN:Aggregation uses attention model\n",
      "INFO:model.attention:Using scaled prod attention\n",
      "INFO:model.attention:Using scaled prod attention\n",
      "INFO:model.TGAN:Using time encoding\n",
      "INFO:root:num of training instances: 81029\n",
      "INFO:root:num of batches per epoch: 406\n",
      "INFO:root:start 0 epoch\n",
      "torch.Size([200, 172]) torch.Size([200, 1, 172])\n",
      "Traceback (most recent call last):\n",
      "  File \"/home/FYP/siddhant005/fyp/tgat/src/learn_edge.py\", line 222, in <module>\n",
      "    pos_prob, neg_prob = tgan.contrast(src_l_cut, dst_l_cut, dst_l_fake, ts_l_cut, NUM_NEIGHBORS)\n",
      "  File \"/home/FYP/siddhant005/fyp/tgat/src/model/TGAN.py\", line 87, in contrast\n",
      "    src_embed = self.tem_conv(src_idx_l, cut_time_l, self.num_layers, num_neighbors)\n",
      "  File \"/home/FYP/siddhant005/fyp/tgat/src/model/TGAN.py\", line 146, in tem_conv\n",
      "    src_node_conv_feat = self.tem_conv(src_idx_l, \n",
      "  File \"/home/FYP/siddhant005/fyp/tgat/src/model/TGAN.py\", line 153, in tem_conv\n",
      "    src_node_t_embed = self.time_att_aggregate(src_node_t_embed, src_node_t_embed) # do self attn\n",
      "  File \"/home/FYP/siddhant005/fyp/tgat/src/model/TGAN.py\", line 111, in time_att_aggregate\n",
      "    node_emb_to_time = torch.tensordot(node_emb, self.time_att_weights, dims=([-1], [0]))\n",
      "  File \"/home/FYP/siddhant005/.conda/envs/retagnn_pyg/lib/python3.10/site-packages/torch/functional.py\", line 1193, in tensordot\n",
      "    return _VF.tensordot(a, b, dims_a, dims_b)  # type: ignore[attr-defined]\n",
      "RuntimeError: contracted dimensions need to match, but first has size 172 in dim -1 and second has size 100 in dim 0\n"
     ]
    }
   ],
   "source": [
    "! python -u tgat/src/learn_edge.py -d wikipedia --bs 200 --uniform  --n_degree 20 --agg_method attn --attn_mode prod --gpu 0 --n_head 2 --prefix cross_self_attn "
   ]
  },
  {
   "cell_type": "code",
   "execution_count": null,
   "metadata": {},
   "outputs": [],
   "source": []
  }
 ],
 "metadata": {
  "kernelspec": {
   "display_name": "tgat",
   "language": "python",
   "name": "tgat"
  },
  "language_info": {
   "codemirror_mode": {
    "name": "ipython",
    "version": 3
   },
   "file_extension": ".py",
   "mimetype": "text/x-python",
   "name": "python",
   "nbconvert_exporter": "python",
   "pygments_lexer": "ipython3",
   "version": "3.10.13"
  }
 },
 "nbformat": 4,
 "nbformat_minor": 2
}

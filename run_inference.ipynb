{
 "cells": [
  {
   "cell_type": "code",
   "execution_count": 1,
   "metadata": {},
   "outputs": [
    {
     "name": "stdout",
     "output_type": "stream",
     "text": [
      "/apps/anaconda3/bin/python\n"
     ]
    },
    {
     "name": "stdout",
     "output_type": "stream",
     "text": [
      "GPU 0: Tesla V100-PCIE-32GB (UUID: GPU-73e475a7-966f-91ae-6652-4163028a8284)\n"
     ]
    }
   ],
   "source": [
    "!which python\n",
    "!nvidia-smi -L"
   ]
  },
  {
   "cell_type": "code",
   "execution_count": 2,
   "metadata": {},
   "outputs": [],
   "source": [
    "# !python /home/FYP/siddhant005/fyp/src/inference.py -d ml-100k --pretrain '/home/FYP/siddhant005/fyp/log/saved_models/ml-100k/190_checkpoint.128_30_200_2_0.3_disentangle_2_30_32_32_0.001.pth.tar'"
   ]
  },
  {
   "cell_type": "code",
   "execution_count": 3,
   "metadata": {},
   "outputs": [
    {
     "name": "stdout",
     "output_type": "stream",
     "text": [
      "ml-100k\n",
      "Running inference for user 259...\n",
      "The mapped user id 101 is for 259 real user id\n",
      "(array([101, 101, 101, 101, 101, 101, 101, 101, 101, 101, 101, 101, 101,\n",
      "       101, 101, 101, 101, 101, 101, 101, 101, 101, 101, 101, 101, 101,\n",
      "       101, 101, 101, 101, 101, 101, 101, 101, 101, 101, 101, 101, 101,\n",
      "       101, 101, 101, 101, 101, 101, 101]), array([ 177,  289,  153,  361,  321,  732, 1006,   60,  971,  140,  113,\n",
      "        136, 1054,  311,  347,  240,  111,   52,   31,  297,  320,   88,\n",
      "        367,  491,  492,  571,  355, 1008,   68,  403,   95,  719,  203,\n",
      "        175,  427,  161,  365,  181,   25,  115,  452,  310,  241,  285,\n",
      "        462,  269]), array([8.74724710e+08, 8.74724727e+08, 8.74724754e+08, 8.74724781e+08,\n",
      "       8.74724843e+08, 8.74724882e+08, 8.74724882e+08, 8.74724905e+08,\n",
      "       8.74724937e+08, 8.74724988e+08, 8.74725081e+08, 8.74725120e+08,\n",
      "       8.74725264e+08, 8.74725386e+08, 8.74725485e+08, 8.74725485e+08,\n",
      "       8.74809057e+08, 8.74809057e+08, 8.74809091e+08, 8.74809192e+08,\n",
      "       8.74809292e+08, 8.76365003e+08, 8.76365003e+08, 8.77923906e+08,\n",
      "       8.77924028e+08, 8.77925033e+08, 8.77925049e+08, 8.77926006e+08,\n",
      "       8.81378653e+08, 8.81379128e+08, 8.81641699e+08, 8.83370924e+08,\n",
      "       8.83371001e+08, 8.83371839e+08, 8.83371861e+08, 8.83371882e+08,\n",
      "       8.83372151e+08, 8.83372151e+08, 8.83372151e+08, 8.88630424e+08,\n",
      "       8.88630664e+08, 8.88630664e+08, 8.88720541e+08, 8.88720593e+08,\n",
      "       8.88720644e+08, 8.88721050e+08]))\n"
     ]
    }
   ],
   "source": [
    "from src.inference import InferenceEngine\n",
    "from src.utils.data_utils import Data\n",
    "from src.utils.main_utils import parse_opt\n",
    "\n",
    "args = parse_opt()[0]\n",
    "print(args.data)\n",
    "data = Data(args.data, args, split=False)\n",
    "inference = InferenceEngine(args, data)\n",
    "\n",
    "user_id = 259\n",
    "print(f'Running inference for user {user_id}...')\n",
    "uit = inference.run(user_id)\n",
    "print(uit)"
   ]
  },
  {
   "cell_type": "code",
   "execution_count": 6,
   "metadata": {},
   "outputs": [],
   "source": [
    "src, dst, ts = uit[0], uit[1], uit[2]"
   ]
  },
  {
   "cell_type": "code",
   "execution_count": 7,
   "metadata": {},
   "outputs": [],
   "source": [
    "import networkx as nx\n",
    "def make_nx_graph( src, dst, ts):\n",
    "    B = nx.Graph()\n",
    "    B.add_nodes_from(src, bipartite=1)\n",
    "    B.add_nodes_from(dst, bipartite=0)\n",
    "    \n",
    "    edges = [(src[i], dst[i]) for i in range(len(dst))]\n",
    "    \n",
    "    B.add_edges_from(edges)\n",
    "\n",
    "    top = nx.bipartite.sets(B)[0]\n",
    "    pos = nx.bipartite_layout(B, top, align='horizontal')\n",
    "\n",
    "    return B, pos"
   ]
  },
  {
   "cell_type": "code",
   "execution_count": 10,
   "metadata": {},
   "outputs": [
    {
     "ename": "KeyError",
     "evalue": "'pos'",
     "output_type": "error",
     "traceback": [
      "\u001b[0;31m---------------------------------------------------------------------------\u001b[0m",
      "\u001b[0;31mKeyError\u001b[0m                                  Traceback (most recent call last)",
      "Input \u001b[0;32mIn [10]\u001b[0m, in \u001b[0;36m<cell line: 7>\u001b[0;34m()\u001b[0m\n\u001b[1;32m      6\u001b[0m edge_y \u001b[38;5;241m=\u001b[39m []\n\u001b[1;32m      7\u001b[0m \u001b[38;5;28;01mfor\u001b[39;00m edge \u001b[38;5;129;01min\u001b[39;00m G\u001b[38;5;241m.\u001b[39medges():\n\u001b[0;32m----> 8\u001b[0m     x0, y0 \u001b[38;5;241m=\u001b[39m \u001b[43mG\u001b[49m\u001b[38;5;241;43m.\u001b[39;49m\u001b[43mnodes\u001b[49m\u001b[43m[\u001b[49m\u001b[43medge\u001b[49m\u001b[43m[\u001b[49m\u001b[38;5;241;43m0\u001b[39;49m\u001b[43m]\u001b[49m\u001b[43m]\u001b[49m\u001b[43m[\u001b[49m\u001b[38;5;124;43m'\u001b[39;49m\u001b[38;5;124;43mpos\u001b[39;49m\u001b[38;5;124;43m'\u001b[39;49m\u001b[43m]\u001b[49m\n\u001b[1;32m      9\u001b[0m     x1, y1 \u001b[38;5;241m=\u001b[39m G\u001b[38;5;241m.\u001b[39mnodes[edge[\u001b[38;5;241m1\u001b[39m]][\u001b[38;5;124m'\u001b[39m\u001b[38;5;124mpos\u001b[39m\u001b[38;5;124m'\u001b[39m]\n\u001b[1;32m     10\u001b[0m     edge_x\u001b[38;5;241m.\u001b[39mappend(x0)\n",
      "\u001b[0;31mKeyError\u001b[0m: 'pos'"
     ]
    }
   ],
   "source": [
    "import plotly.graph_objects as go\n",
    "\n",
    "G, pos = make_nx_graph(src, dst, ts)\n",
    "\n",
    "edge_x = []\n",
    "edge_y = []\n",
    "for edge in G.edges():\n",
    "    x0, y0 = G.nodes[edge[0]]['pos']\n",
    "    x1, y1 = G.nodes[edge[1]]['pos']\n",
    "    edge_x.append(x0)\n",
    "    edge_x.append(x1)\n",
    "    edge_x.append(None)\n",
    "    edge_y.append(y0)\n",
    "    edge_y.append(y1)\n",
    "    edge_y.append(None)\n",
    "\n",
    "edge_trace = go.Scatter(\n",
    "    x=edge_x, y=edge_y,\n",
    "    line=dict(width=0.5, color='#888'),\n",
    "    hoverinfo='none',\n",
    "    mode='lines')\n",
    "\n",
    "node_x = []\n",
    "node_y = []\n",
    "for node in G.nodes():\n",
    "    x, y = G.nodes[node]['pos']\n",
    "    node_x.append(x)\n",
    "    node_y.append(y)\n",
    "\n",
    "node_trace = go.Scatter(\n",
    "    x=node_x, y=node_y,\n",
    "    mode='markers',\n",
    "    hoverinfo='text',\n",
    "    marker=dict(\n",
    "        showscale=True,\n",
    "        # colorscale options\n",
    "        #'Greys' | 'YlGnBu' | 'Greens' | 'YlOrRd' | 'Bluered' | 'RdBu' |\n",
    "        #'Reds' | 'Blues' | 'Picnic' | 'Rainbow' | 'Portland' | 'Jet' |\n",
    "        #'Hot' | 'Blackbody' | 'Earth' | 'Electric' | 'Viridis' |\n",
    "        colorscale='YlGnBu',\n",
    "        reversescale=True,\n",
    "        color=[],\n",
    "        size=10,\n",
    "        colorbar=dict(\n",
    "            thickness=15,\n",
    "            title='Node Connections',\n",
    "            xanchor='left',\n",
    "            titleside='right'\n",
    "        ),\n",
    "        line_width=2))\n",
    "\n",
    "\n",
    "node_adjacencies = []\n",
    "node_text = []\n",
    "for node, adjacencies in enumerate(G.adjacency()):\n",
    "    node_adjacencies.append(len(adjacencies[1]))\n",
    "    node_text.append('# of connections: '+str(len(adjacencies[1])))\n",
    "\n",
    "node_trace.marker.color = node_adjacencies\n",
    "node_trace.text = node_text\n",
    "\n",
    "fig = go.Figure(data=[edge_trace, node_trace],\n",
    "             layout=go.Layout(\n",
    "                title='<br>Network graph made with Python',\n",
    "                titlefont_size=16,\n",
    "                showlegend=False,\n",
    "                hovermode='closest',\n",
    "                margin=dict(b=20,l=5,r=5,t=40),\n",
    "                annotations=[ dict(\n",
    "                    text=\"Python code: <a href='https://plotly.com/ipython-notebooks/network-graphs/'> https://plotly.com/ipython-notebooks/network-graphs/</a>\",\n",
    "                    showarrow=False,\n",
    "                    xref=\"paper\", yref=\"paper\",\n",
    "                    x=0.005, y=-0.002 ) ],\n",
    "                xaxis=dict(showgrid=False, zeroline=False, showticklabels=False),\n",
    "                yaxis=dict(showgrid=False, zeroline=False, showticklabels=False))\n",
    "                )\n",
    "fig.show()"
   ]
  },
  {
   "cell_type": "code",
   "execution_count": null,
   "metadata": {},
   "outputs": [],
   "source": []
  }
 ],
 "metadata": {
  "kernelspec": {
   "display_name": "retagnn_pyg",
   "language": "python",
   "name": "retagnn_pyg"
  }
 },
 "nbformat": 4,
 "nbformat_minor": 2
}

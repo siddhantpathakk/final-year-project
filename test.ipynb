{
 "cells": [
  {
   "cell_type": "code",
   "execution_count": 1,
   "metadata": {},
   "outputs": [
    {
     "name": "stdout",
     "output_type": "stream",
     "text": [
      "/home/FYP/siddhant005/.conda/envs/retagnn_pyg/bin/python\n"
     ]
    },
    {
     "name": "stdout",
     "output_type": "stream",
     "text": [
      "GPU 0: Tesla V100-PCIE-32GB (UUID: GPU-73e475a7-966f-91ae-6652-4163028a8284)\n"
     ]
    }
   ],
   "source": [
    "!which python\n",
    "!nvidia-smi -L"
   ]
  },
  {
   "cell_type": "code",
   "execution_count": 5,
   "metadata": {},
   "outputs": [
    {
     "name": "stdout",
     "output_type": "stream",
     "text": [
      "INFO:root:Namespace(data='ml-100k', bs=200, prefix='Video_Games_bce', n_degree=30, n_head=2, n_epoch=200, n_layer=2, lr=0.001, drop_out=0.3, reg=0.3, gpu=0, node_dim=32, time_dim=32, agg_method='attn', attn_mode='prod', time='time', uniform=True, new_node=False, samplerate=1.0, popnegsample=False, timepopnegsample=False, negsampleeval=1000, disencomponents=None)\n",
      "#interactions in valid:  1516\n",
      "#interaction in test:  1344\n",
      "2625 n nodes\n",
      "100000 n edges\n",
      "INFO:model:Aggregation uses attention model\n",
      "INFO:model:Using scaled prod attention\n",
      "INFO:model:Using scaled prod attention\n",
      "INFO:model:Using time encoding\n",
      "INFO:root:num of training instances: 80003\n",
      "INFO:root:num of batches per epoch: 401\n",
      "INFO:root:start 0 epoch\n",
      "epoch: 0:\n",
      "Epoch mean loss: 36.98505466775109\n",
      "train acc: 0.6882481296758105\n",
      "train auc: 0.74912141521197\n",
      "train f1: 0.7359169208644376\n",
      "train ap: 0.7076071909480383\n",
      "INFO:root:start 1 epoch\n",
      "^C\n",
      "Traceback (most recent call last):\n",
      "  File \"/home/FYP/siddhant005/fyp/repo/TGSRec/run_TGREC.py\", line 174, in <module>\n",
      "    pos_score, neg_score = tgan.contrast_nosigmoid(src_l_cut, dst_l_cut, dst_l_fake, ts_l_cut, NUM_NEIGHBORS)\n",
      "  File \"/home/FYP/siddhant005/fyp/repo/TGSRec/model.py\", line 562, in contrast_nosigmoid\n",
      "    src_embed = self.tem_conv(src_idx_l, cut_time_l, self.num_layers, num_neighbors)\n",
      "  File \"/home/FYP/siddhant005/fyp/repo/TGSRec/model.py\", line 634, in tem_conv\n",
      "    src_ngh_node_conv_feat = self.tem_conv(src_ngh_node_batch_flat, \n",
      "  File \"/home/FYP/siddhant005/fyp/repo/TGSRec/model.py\", line 621, in tem_conv\n",
      "    src_ngh_node_batch, src_ngh_eidx_batch, src_ngh_t_batch = self.ngh_finder.get_temporal_neighbor( \n",
      "  File \"/home/FYP/siddhant005/fyp/repo/TGSRec/graph.py\", line 118, in get_temporal_neighbor\n",
      "    out_ngh_eidx_batch[i, :] = out_ngh_eidx_batch[i, :][pos]\n",
      "KeyboardInterrupt\n"
     ]
    }
   ],
   "source": [
    "!python repo/TGSRec/run_TGREC.py -d ml-100k --uniform --bs 200 --lr 0.001 --n_degree 30 --agg_method attn --attn_mode prod --gpu 0 --n_head 2 --n_layer 2 --prefix Video_Games_bce --node_dim 32 --time_dim 32 --drop_out 0.3 --reg 0.3 --negsampleeval 1000"
   ]
  },
  {
   "cell_type": "code",
   "execution_count": null,
   "metadata": {},
   "outputs": [],
   "source": [
    " "
   ]
  }
 ],
 "metadata": {
  "kernelspec": {
   "display_name": "retagnn_pyg",
   "language": "python",
   "name": "retagnn_pyg"
  }
 },
 "nbformat": 4,
 "nbformat_minor": 2
}

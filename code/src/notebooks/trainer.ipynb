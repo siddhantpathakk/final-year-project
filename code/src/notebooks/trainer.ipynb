{
 "cells": [
  {
   "cell_type": "code",
   "execution_count": 29,
   "metadata": {},
   "outputs": [
    {
     "name": "stdout",
     "output_type": "stream",
     "text": [
      "GPU 0: Tesla V100-PCIE-32GB (UUID: GPU-616124a6-56d2-d6c8-66c6-9c4fac151415)\n"
     ]
    }
   ],
   "source": [
    "!nvidia-smi -L"
   ]
  },
  {
   "cell_type": "code",
   "execution_count": 30,
   "metadata": {},
   "outputs": [
    {
     "name": "stdout",
     "output_type": "stream",
     "text": [
      "Traceback (most recent call last):\n",
      "  File \"/home/FYP/siddhant005/fyp/code/src/main.py\", line 5, in <module>\n",
      "    from trainer import Trainer\n",
      "  File \"/home/FYP/siddhant005/fyp/code/src/trainer.py\", line 1, in <module>\n",
      "    from models.model import GNN_SR_Net\n",
      "  File \"/home/FYP/siddhant005/fyp/code/src/models/__init__.py\", line 1, in <module>\n",
      "    from feed_forward import *\n",
      "ModuleNotFoundError: No module named 'feed_forward'\n"
     ]
    }
   ],
   "source": [
    "! /home/FYP/siddhant005/.conda/envs/retagnn_pyg/bin/python3 /home/FYP/siddhant005/fyp/code/src/main.py --dataset ml100k --verbose 1 "
   ]
  },
  {
   "cell_type": "code",
   "execution_count": null,
   "metadata": {},
   "outputs": [],
   "source": []
  }
 ],
 "metadata": {
  "kernelspec": {
   "display_name": "retagnn_pyg",
   "language": "python",
   "name": "retagnn_pyg"
  },
  "language_info": {
   "codemirror_mode": {
    "name": "ipython",
    "version": 3
   },
   "file_extension": ".py",
   "mimetype": "text/x-python",
   "name": "python",
   "nbconvert_exporter": "python",
   "pygments_lexer": "ipython3",
   "version": "3.10.13"
  }
 },
 "nbformat": 4,
 "nbformat_minor": 2
}

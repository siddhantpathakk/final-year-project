{
 "cells": [
  {
   "cell_type": "code",
   "execution_count": 1,
   "metadata": {},
   "outputs": [
    {
     "name": "stdout",
     "output_type": "stream",
     "text": [
      "GPU 0: Tesla V100-PCIE-32GB (UUID: GPU-5da8ab42-ad48-c1d7-62a5-99705a1ed268)\n"
     ]
    }
   ],
   "source": [
    "!nvidia-smi -L"
   ]
  },
  {
   "cell_type": "code",
   "execution_count": 4,
   "metadata": {},
   "outputs": [
    {
     "name": "stdout",
     "output_type": "stream",
     "text": [
      "[INFO] device: cuda \n",
      "{'H': 3,\n",
      " 'L': 11,\n",
      " 'TSAL_attn_drop': 0.0,\n",
      " 'TSAL_head_num': 2,\n",
      " 'adj_dropout': 0,\n",
      " 'batch_size': 1024,\n",
      " 'block_backprop': False,\n",
      " 'conv_layer_num': 2,\n",
      " 'cross_attn_drop': 0.0,\n",
      " 'cross_attn_head_num': 2,\n",
      " 'dataset': 'ml1m',\n",
      " 'debug': True,\n",
      " 'dim': 32,\n",
      " 'epoch_num': 10,\n",
      " 'file_path': '/home/FYP/siddhant005/fyp/code/data/processed/ml-1m/',\n",
      " 'l2': 0.0001,\n",
      " 'lambda_val': 0.5,\n",
      " 'learning_rate': 0.001,\n",
      " 'log_path': '/home/FYP/siddhant005/fyp/code/src/logs/train/ml1m/',\n",
      " 'neg_samples': 2,\n",
      " 'num_bases': 3,\n",
      " 'out_path': '/home/FYP/siddhant005/fyp/code/src/logs/tmp/',\n",
      " 'plot': True,\n",
      " 'processed': False,\n",
      " 'seed': 42,\n",
      " 'sets_of_neg_samples': 50,\n",
      " 'short_term_conv_layer_num': 3,\n",
      " 'topk': 20,\n",
      " 'verbose': True}\n",
      "========================================================================================================================================================================================================\n",
      "[STATUS] Commencing training for 10 epochs\n",
      "\n",
      "Epoch\tTime\tLoss\t\tP@10\tR@10\tMAP@10\tNDCG@10\tHR@10\t\tP@20\tR@20\tMAP@20\tNDCG@20\tHR@20\n",
      "1\t00m59s\t19.915\t\t0.052\t0.026\t0.021\t0.053\t0.282\t\t0.050\t0.050\t0.015\t0.051\t0.400\n",
      "2\t00m58s\t14.244\t\t0.063\t0.031\t0.027\t0.065\t0.340\t\t0.057\t0.057\t0.019\t0.060\t0.417\n",
      "3\t00m58s\t12.429\t\t0.067\t0.034\t0.032\t0.071\t0.342\t\t0.053\t0.053\t0.021\t0.059\t0.374\n",
      "4\t00m57s\t11.478\t\t0.067\t0.034\t0.028\t0.070\t0.342\t\t0.061\t0.061\t0.020\t0.065\t0.502\n",
      "5\t00m57s\t11.657\t\t0.065\t0.032\t0.027\t0.068\t0.340\t\t0.061\t0.061\t0.020\t0.064\t0.489\n",
      "6\t00m58s\t11.735\t\t0.069\t0.034\t0.028\t0.072\t0.424\t\t0.065\t0.065\t0.021\t0.068\t0.493\n",
      "7\t00m57s\t11.550\t\t0.070\t0.035\t0.028\t0.073\t0.438\t\t0.066\t0.066\t0.021\t0.069\t0.516\n",
      "8\t00m58s\t11.474\t\t0.076\t0.038\t0.029\t0.077\t0.456\t\t0.067\t0.067\t0.021\t0.070\t0.517\n",
      "9\t00m58s\t11.239\t\t0.071\t0.035\t0.031\t0.072\t0.358\t\t0.063\t0.063\t0.021\t0.066\t0.489\n",
      "10\t00m59s\t11.217\t\t0.064\t0.032\t0.027\t0.067\t0.363\t\t0.061\t0.061\t0.020\t0.064\t0.488\n"
     ]
    }
   ],
   "source": [
    "! /home/FYP/siddhant005/.conda/envs/retagnn_pyg/bin/python3 /home/FYP/siddhant005/fyp/code/src/main.py --dataset ml1m --verbose 1 --debug"
   ]
  },
  {
   "cell_type": "code",
   "execution_count": null,
   "metadata": {},
   "outputs": [],
   "source": []
  }
 ],
 "metadata": {
  "kernelspec": {
   "display_name": "retagnn_pyg",
   "language": "python",
   "name": "retagnn_pyg"
  },
  "language_info": {
   "codemirror_mode": {
    "name": "ipython",
    "version": 3
   },
   "file_extension": ".py",
   "mimetype": "text/x-python",
   "name": "python",
   "nbconvert_exporter": "python",
   "pygments_lexer": "ipython3",
   "version": "3.10.13"
  }
 },
 "nbformat": 4,
 "nbformat_minor": 2
}

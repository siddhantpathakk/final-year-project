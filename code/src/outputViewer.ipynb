{
 "cells": [
  {
   "cell_type": "code",
   "execution_count": 1,
   "metadata": {},
   "outputs": [
    {
     "name": "stdout",
     "output_type": "stream",
     "text": [
      "{'dataset': 'ml100k', 'out_path': '/home/FYP/siddhant005/fyp/code/src/logs/tmp/', 'L': 11, 'H': 2, 'topk': 20, 'epoch_num': 10, 'learning_rate': 0.001, 'l2': 1e-05, 'neg_samples': 3, 'sets_of_neg_samples': 50, 'dim': 32, 'conv_layer_num': 2, 'short_term_conv_layer_num': 3, 'num_bases': 2, 'adj_dropout': 0, 'lambda_val': 0.5, 'TSAL_head_num': 2, 'TSAL_attn_drop': 0.0, 'user_attn_head_num': 2, 'user_attn_drop': 0.0, 'verbose': False, 'debug': True, 'seed': 42, 'file_path': '/home/FYP/siddhant005/fyp/code/data/processed/ml-100k/', 'batch_size': 256}\n",
      "Epoch\tLoss\t\tP@10\tR@10\tMAP@10\tNDCG@10\t\tP@20\tR@20\tMAP@20\tNDCG@20\n",
      "1\t1.628\t\t0.048\t0.024\t0.017\t0.051\t\t0.054\t0.054\t0.012\t0.054\n",
      "2\t0.917\t\t0.079\t0.039\t0.030\t0.082\t\t0.064\t0.064\t0.018\t0.070\n",
      "3\t0.588\t\t0.062\t0.031\t0.025\t0.068\t\t0.064\t0.064\t0.017\t0.068\n",
      "4\t0.524\t\t0.074\t0.037\t0.029\t0.080\t\t0.072\t0.072\t0.019\t0.076\n",
      "5\t0.569\t\t0.070\t0.035\t0.024\t0.068\t\t0.074\t0.074\t0.017\t0.072\n",
      "6\t0.482\t\t0.085\t0.043\t0.030\t0.083\t\t0.076\t0.076\t0.020\t0.077\n",
      "7\t0.413\t\t0.076\t0.038\t0.028\t0.078\t\t0.070\t0.070\t0.019\t0.073\n",
      "8\t0.379\t\t0.092\t0.046\t0.036\t0.095\t\t0.074\t0.074\t0.022\t0.081\n",
      "9\t0.327\t\t0.081\t0.040\t0.027\t0.079\t\t0.079\t0.079\t0.019\t0.079\n",
      "10\t0.353\t\t0.085\t0.043\t0.028\t0.081\t\t0.081\t0.081\t0.020\t0.080\n"
     ]
    }
   ],
   "source": [
    "# Movielens-100K\n",
    "!python3 main.py --dataset ml100k --debug 1 "
   ]
  },
  {
   "cell_type": "code",
   "execution_count": 2,
   "metadata": {},
   "outputs": [
    {
     "name": "stdout",
     "output_type": "stream",
     "text": [
      "{'dataset': 'ml1m', 'out_path': '/home/FYP/siddhant005/fyp/code/src/logs/tmp/', 'L': 11, 'H': 2, 'topk': 20, 'epoch_num': 10, 'learning_rate': 0.001, 'l2': 1e-05, 'neg_samples': 3, 'sets_of_neg_samples': 50, 'dim': 32, 'conv_layer_num': 2, 'short_term_conv_layer_num': 3, 'num_bases': 2, 'adj_dropout': 0, 'lambda_val': 0.5, 'TSAL_head_num': 2, 'TSAL_attn_drop': 0.0, 'user_attn_head_num': 2, 'user_attn_drop': 0.0, 'verbose': False, 'debug': True, 'seed': 42, 'file_path': '/home/FYP/siddhant005/fyp/code/data/processed/ml-1m/', 'batch_size': 512}\n",
      "Epoch\tLoss\t\tP@10\tR@10\tMAP@10\tNDCG@10\t\tP@20\tR@20\tMAP@20\tNDCG@20\n",
      "1\t0.027\t\t0.047\t0.024\t0.014\t0.044\t\t0.045\t0.045\t0.010\t0.043\n",
      "2\t0.024\t\t0.048\t0.024\t0.019\t0.048\t\t0.044\t0.044\t0.012\t0.045\n",
      "3\t0.021\t\t0.057\t0.028\t0.025\t0.065\t\t0.048\t0.048\t0.015\t0.055\n",
      "4\t0.017\t\t0.059\t0.029\t0.023\t0.064\t\t0.053\t0.053\t0.015\t0.059\n"
     ]
    }
   ],
   "source": [
    "# Movielens-1M\n",
    "!python3 main.py --dataset ml1m --debug 1 "
   ]
  },
  {
   "cell_type": "code",
   "execution_count": null,
   "metadata": {},
   "outputs": [],
   "source": []
  }
 ],
 "metadata": {
  "kernelspec": {
   "display_name": "retagnn_pyg",
   "language": "python",
   "name": "python3"
  },
  "language_info": {
   "codemirror_mode": {
    "name": "ipython",
    "version": 3
   },
   "file_extension": ".py",
   "mimetype": "text/x-python",
   "name": "python",
   "nbconvert_exporter": "python",
   "pygments_lexer": "ipython3",
   "version": "3.10.13"
  }
 },
 "nbformat": 4,
 "nbformat_minor": 2
}

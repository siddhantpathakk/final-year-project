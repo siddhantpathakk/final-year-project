{
 "cells": [
  {
   "cell_type": "code",
   "execution_count": 1,
   "metadata": {},
   "outputs": [],
   "source": [
    "!nvidia-smi -L"
   ]
  },
  {
   "cell_type": "code",
   "execution_count": null,
   "metadata": {},
   "outputs": [
    {
     "name": "stdout",
     "output_type": "stream",
     "text": [
      "{'dataset': 'ml1m', 'out_path': '/home/FYP/siddhant005/fyp/code/src/logs/tmp/', 'processed': False, 'L': 11, 'H': 3, 'topk': 20, 'epoch_num': 10, 'learning_rate': 0.005, 'l2': 0.0001, 'neg_samples': 2, 'sets_of_neg_samples': 50, 'dim': 32, 'conv_layer_num': 2, 'short_term_conv_layer_num': 3, 'num_bases': 3, 'adj_dropout': 0, 'lambda_val': 0.5, 'TSAL_head_num': 2, 'TSAL_attn_drop': 0.0, 'cross_attn_head_num': 2, 'cross_attn_drop': 0.0, 'verbose': True, 'debug': True, 'seed': 42, 'file_path': '/home/FYP/siddhant005/fyp/code/data/processed_with_gender10/', 'batch_size': 1024}\n",
      "[STATUS] Running train.py with arguments: Namespace(dataset='ml1m', out_path='/home/FYP/siddhant005/fyp/code/src/logs/tmp/', processed=False, L=11, H=3, topk=20, epoch_num=10, learning_rate=0.005, l2=0.0001, neg_samples=2, sets_of_neg_samples=50, dim=32, conv_layer_num=2, short_term_conv_layer_num=3, num_bases=3, adj_dropout=0, lambda_val=0.5, TSAL_head_num=2, TSAL_attn_drop=0.0, cross_attn_head_num=2, cross_attn_drop=0.0, verbose=True, debug=True, seed=42, file_path='/home/FYP/siddhant005/fyp/code/data/processed_with_gender10/', batch_size=1024)\n",
      "========================================================================================================================================================================================================\n",
      "[INFO] device: cuda \n",
      "========================================================================================================================================================================================================\n",
      "[STATUS] Data preprocessing completed\n",
      "[INFO] uid2locid_time: 4247 \n",
      "[INFO] locid2detail: 3116 \n",
      "[INFO] node_num: 7368 \n",
      "[INFO] relation_num: 4 \n",
      "[INFO] user_num: 4247 \n",
      "[INFO] train_num: 29729 \n",
      "[INFO] test_num: 4247 \n",
      "[INFO] train_set: (29729, 14) \n",
      "[INFO] test_set: (4247, 11) \n",
      "[INFO] uid_list_: 4247 \n",
      "[INFO] u2v: 4247 \n",
      "[INFO] u2vc: 4247 \n",
      "[INFO] v2u: 3116 \n",
      "[INFO] v2vc: 3116 \n",
      "========================================================================================================================================================================================================\n",
      "[STATUS] Commencing training for 10 epochs\n",
      "\n",
      "Epoch\tTime\tLoss\t\tP@10\tR@10\tMAP@10\tNDCG@10\tHR@10\t\tP@20\tR@20\tMAP@20\tNDCG@20\tHR@20\n"
     ]
    }
   ],
   "source": [
    "# without cross-attention\n",
    "! /home/FYP/siddhant005/.conda/envs/retagnn_pyg/bin/python3 /home/FYP/siddhant005/fyp/code/src/main.py --dataset ml1m --verbose 1 --debug 1"
   ]
  }
 ],
 "metadata": {
  "kernelspec": {
   "display_name": "retagnn_pyg",
   "language": "python",
   "name": "retagnn_pyg"
  },
  "language_info": {
   "codemirror_mode": {
    "name": "ipython",
    "version": 3
   },
   "file_extension": ".py",
   "mimetype": "text/x-python",
   "name": "python",
   "nbconvert_exporter": "python",
   "pygments_lexer": "ipython3",
   "version": "3.10.13"
  }
 },
 "nbformat": 4,
 "nbformat_minor": 2
}

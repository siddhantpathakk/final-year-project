{
 "cells": [
  {
   "cell_type": "code",
   "execution_count": 2,
   "metadata": {},
   "outputs": [
    {
     "name": "stdout",
     "output_type": "stream",
     "text": [
      "{'dataset': 'ml100k', 'out_path': '/home/FYP/siddhant005/fyp/code/src/logs/tmp/', 'L': 11, 'H': 2, 'topk': 20, 'epoch_num': 10, 'learning_rate': 0.001, 'l2': 1e-05, 'neg_samples': 3, 'sets_of_neg_samples': 50, 'dim': 32, 'conv_layer_num': 2, 'short_term_conv_layer_num': 3, 'num_bases': 2, 'adj_dropout': 0, 'lambda_val': 0.5, 'TSAL_head_num': 2, 'TSAL_attn_drop': 0.1, 'cross_attn_head_num': 2, 'cross_attn_drop': 0.1, 'verbose': False, 'debug': True, 'seed': 42, 'file_path': '/home/FYP/siddhant005/fyp/code/data/processed/ml-100k/', 'batch_size': 256}\n",
      "Epoch\tLoss\t\tP@10\tR@10\tMAP@10\tNDCG@10\t\tP@20\tR@20\tMAP@20\tNDCG@20\n",
      "1\t1.607\t\t0.056\t0.028\t0.021\t0.060\t\t0.055\t0.055\t0.014\t0.058\n",
      "2\t0.885\t\t0.061\t0.031\t0.022\t0.064\t\t0.068\t0.068\t0.016\t0.068\n",
      "3\t0.600\t\t0.079\t0.039\t0.032\t0.086\t\t0.066\t0.066\t0.020\t0.075\n",
      "4\t0.464\t\t0.085\t0.042\t0.035\t0.092\t\t0.075\t0.075\t0.022\t0.083\n",
      "5\t0.509\t\t0.075\t0.037\t0.031\t0.080\t\t0.070\t0.070\t0.020\t0.075\n"
     ]
    }
   ],
   "source": [
    "# Movielens-100K\n",
    "!python3 main.py --dataset ml100k --debug 1 "
   ]
  },
  {
   "cell_type": "code",
   "execution_count": 1,
   "metadata": {},
   "outputs": [
    {
     "name": "stdout",
     "output_type": "stream",
     "text": [
      "{'dataset': 'ml1m', 'out_path': '/home/FYP/siddhant005/fyp/code/src/logs/tmp/', 'L': 11, 'H': 2, 'topk': 20, 'epoch_num': 10, 'learning_rate': 0.001, 'l2': 1e-05, 'neg_samples': 3, 'sets_of_neg_samples': 50, 'dim': 32, 'conv_layer_num': 2, 'short_term_conv_layer_num': 3, 'num_bases': 2, 'adj_dropout': 0, 'lambda_val': 0.5, 'TSAL_head_num': 2, 'TSAL_attn_drop': 0.0, 'user_attn_head_num': 2, 'user_attn_drop': 0.0, 'verbose': False, 'debug': True, 'seed': 42, 'file_path': '/home/FYP/siddhant005/fyp/code/data/processed/ml-1m/', 'batch_size': 512}\n",
      "Epoch\tLoss\t\tP@10\tR@10\tMAP@10\tNDCG@10\t\tP@20\tR@20\tMAP@20\tNDCG@20\n",
      "1\t0.028\t\t0.053\t0.026\t0.022\t0.059\t\t0.050\t0.050\t0.014\t0.054\n",
      "2\t0.020\t\t0.059\t0.029\t0.023\t0.062\t\t0.045\t0.045\t0.014\t0.051\n",
      "3\t0.015\t\t0.064\t0.032\t0.025\t0.070\t\t0.054\t0.054\t0.016\t0.061\n",
      "4\t0.017\t\t0.053\t0.027\t0.022\t0.060\t\t0.047\t0.047\t0.013\t0.053\n",
      "5\t0.025\t\t0.054\t0.027\t0.018\t0.055\t\t0.056\t0.056\t0.013\t0.056\n",
      "6\t0.020\t\t0.061\t0.031\t0.023\t0.062\t\t0.055\t0.055\t0.015\t0.057\n",
      "7\t0.013\t\t0.070\t0.035\t0.026\t0.072\t\t0.062\t0.062\t0.017\t0.065\n",
      "8\t0.019\t\t0.074\t0.037\t0.029\t0.078\t\t0.068\t0.068\t0.019\t0.072\n",
      "9\t0.016\t\t0.071\t0.035\t0.028\t0.073\t\t0.062\t0.062\t0.018\t0.067\n",
      "10\t0.011\t\t0.067\t0.033\t0.028\t0.070\t\t0.054\t0.054\t0.018\t0.060\n"
     ]
    }
   ],
   "source": [
    "# Movielens-1M\n",
    "!python3 main.py --dataset ml1m --debug 1 "
   ]
  }
 ],
 "metadata": {
  "kernelspec": {
   "display_name": "retagnn_pyg",
   "language": "python",
   "name": "python3"
  },
  "language_info": {
   "codemirror_mode": {
    "name": "ipython",
    "version": 3
   },
   "file_extension": ".py",
   "mimetype": "text/x-python",
   "name": "python",
   "nbconvert_exporter": "python",
   "pygments_lexer": "ipython3",
   "version": "3.10.13"
  }
 },
 "nbformat": 4,
 "nbformat_minor": 2
}

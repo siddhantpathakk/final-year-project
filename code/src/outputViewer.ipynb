{
 "cells": [
  {
   "cell_type": "code",
   "execution_count": 17,
   "metadata": {},
   "outputs": [
    {
     "name": "stdout",
     "output_type": "stream",
     "text": [
      "{'dataset': 'ml100k', 'out_path': '/home/FYP/siddhant005/fyp/code/src/logs/tmp/', 'L': 11, 'H': 3, 'topk': 20, 'epoch_num': 10, 'learning_rate': 0.001, 'l2': 0.0001, 'neg_samples': 2, 'sets_of_neg_samples': 50, 'dim': 32, 'conv_layer_num': 3, 'short_term_conv_layer_num': 4, 'num_bases': 3, 'adj_dropout': 0, 'lambda_val': 0.5, 'TSAL_head_num': 2, 'TSAL_attn_drop': 0.0, 'cross_attn_head_num': 2, 'cross_attn_drop': 0.0, 'verbose': False, 'debug': True, 'seed': 123456, 'file_path': '/home/FYP/siddhant005/fyp/code/data/processed/ml-100k/', 'batch_size': 128}\n",
      "Epoch\tLoss\t\tP@10\tR@10\tMAP@10\tNDCG@10\tHR@10\t\tP@20\tR@20\tMAP@20\tNDCG@20\tHR@20\n",
      "1\t0.225\t\t0.090\t0.045\t0.037\t0.097\t0.606\t\t0.079\t0.079\t0.024\t0.087\t0.780\n",
      "^C\n",
      "Traceback (most recent call last):\n",
      "  File \"/home/FYP/siddhant005/fyp/code/src/main.py\", line 120, in <module>\n",
      "    trainer.train(train_part,test_part)\n",
      "  File \"/home/FYP/siddhant005/fyp/code/src/trainer.py\", line 521, in train\n",
      "    pred_score,user_emb,item_embs_conv = self.gnn_sr_model(X_user_item,X_graph_base,for_pred=False)\n",
      "  File \"/home/FYP/siddhant005/.conda/envs/retagnn_pyg/lib/python3.10/site-packages/torch/nn/modules/module.py\", line 1518, in _wrapped_call_impl\n",
      "    return self._call_impl(*args, **kwargs)\n",
      "  File \"/home/FYP/siddhant005/.conda/envs/retagnn_pyg/lib/python3.10/site-packages/torch/nn/modules/module.py\", line 1527, in _call_impl\n",
      "    return forward_call(*args, **kwargs)\n",
      "  File \"/home/FYP/siddhant005/fyp/code/src/models/model.py\", line 187, in forward\n",
      "    x = torch.tanh(conv(x, short_edge_index, short_edge_type, gate_emd2=None, rate=rate))\n",
      "  File \"/home/FYP/siddhant005/.conda/envs/retagnn_pyg/lib/python3.10/site-packages/torch/nn/modules/module.py\", line 1518, in _wrapped_call_impl\n",
      "    return self._call_impl(*args, **kwargs)\n",
      "  File \"/home/FYP/siddhant005/.conda/envs/retagnn_pyg/lib/python3.10/site-packages/torch/nn/modules/module.py\", line 1527, in _call_impl\n",
      "    return forward_call(*args, **kwargs)\n",
      "  File \"/home/FYP/siddhant005/fyp/code/src/models/GCN.py\", line 63, in forward\n",
      "    return self.propagate(edge_index, size=size, x=x, edge_type=edge_type, edge_norm=edge_norm)\n",
      "  File \"/home/FYP/siddhant005/.conda/envs/retagnn_pyg/lib/python3.10/site-packages/torch_geometric/nn/conv/message_passing.py\", line 463, in propagate\n",
      "    out = self.message(**msg_kwargs)\n",
      "  File \"/home/FYP/siddhant005/fyp/code/src/models/GCN.py\", line 81, in message\n",
      "    w = torch.index_select(w, 0, edge_type)\n",
      "KeyboardInterrupt\n"
     ]
    }
   ],
   "source": [
    "# Movielens-100K \n",
    "!python3 main.py --dataset ml100k --debug 1"
   ]
  },
  {
   "cell_type": "code",
   "execution_count": null,
   "metadata": {},
   "outputs": [],
   "source": []
  }
 ],
 "metadata": {
  "kernelspec": {
   "display_name": "retagnn_pyg",
   "language": "python",
   "name": "python3"
  },
  "language_info": {
   "codemirror_mode": {
    "name": "ipython",
    "version": 3
   },
   "file_extension": ".py",
   "mimetype": "text/x-python",
   "name": "python",
   "nbconvert_exporter": "python",
   "pygments_lexer": "ipython3",
   "version": "3.10.13"
  }
 },
 "nbformat": 4,
 "nbformat_minor": 2
}

{
 "cells": [
  {
   "cell_type": "code",
   "execution_count": 5,
   "metadata": {},
   "outputs": [
    {
     "name": "stdout",
     "output_type": "stream",
     "text": [
      "{'dataset': 'ml100k', 'out_path': '/home/FYP/siddhant005/fyp/code/src/logs/tmp/', 'L': 11, 'H': 2, 'topk': 20, 'epoch_num': 10, 'learning_rate': 0.001, 'l2': 1e-05, 'neg_samples': 3, 'sets_of_neg_samples': 50, 'dim': 32, 'conv_layer_num': 2, 'short_term_conv_layer_num': 3, 'num_bases': 2, 'adj_dropout': 0, 'lambda_val': 0.5, 'TSAL_head_num': 2, 'TSAL_attn_drop': 0.1, 'cross_attn_head_num': 2, 'cross_attn_drop': 0.1, 'verbose': False, 'debug': True, 'seed': 42, 'file_path': '/home/FYP/siddhant005/fyp/code/data/processed/ml-100k/', 'batch_size': 256}\n",
      "Epoch\tLoss\t\tP@10\tR@10\tMAP@10\tNDCG@10\t\tP@20\tR@20\tMAP@20\tNDCG@20\n",
      "1\t1.578\t\t0.082\t0.041\t0.032\t0.087\t\t0.073\t0.073\t0.021\t0.079\n",
      "2\t0.928\t\t0.045\t0.023\t0.014\t0.044\t\t0.045\t0.045\t0.009\t0.044\n",
      "3\t0.672\t\t0.061\t0.031\t0.021\t0.061\t\t0.068\t0.068\t0.015\t0.067\n",
      "4\t0.551\t\t0.086\t0.043\t0.031\t0.086\t\t0.076\t0.076\t0.020\t0.079\n",
      "5\t0.413\t\t0.084\t0.042\t0.025\t0.077\t\t0.074\t0.074\t0.018\t0.073\n",
      "6\t0.383\t\t0.080\t0.040\t0.033\t0.086\t\t0.079\t0.079\t0.022\t0.083\n",
      "7\t0.409\t\t0.071\t0.036\t0.024\t0.069\t\t0.066\t0.066\t0.016\t0.066\n",
      "8\t0.424\t\t0.078\t0.039\t0.033\t0.086\t\t0.075\t0.075\t0.022\t0.081\n",
      "9\t0.394\t\t0.079\t0.039\t0.032\t0.085\t\t0.078\t0.078\t0.022\t0.083\n",
      "10\t0.339\t\t0.092\t0.046\t0.037\t0.098\t\t0.080\t0.080\t0.024\t0.087\n"
     ]
    }
   ],
   "source": [
    "# Movielens-100K \n",
    "!python3 main.py --dataset ml100k --debug 1 "
   ]
  },
  {
   "cell_type": "code",
   "execution_count": 8,
   "metadata": {},
   "outputs": [
    {
     "name": "stdout",
     "output_type": "stream",
     "text": [
      "{'dataset': 'ml100k', 'out_path': '/home/FYP/siddhant005/fyp/code/src/logs/tmp/', 'L': 11, 'H': 2, 'topk': 20, 'epoch_num': 10, 'learning_rate': 0.001, 'l2': 1e-05, 'neg_samples': 3, 'sets_of_neg_samples': 50, 'dim': 32, 'conv_layer_num': 2, 'short_term_conv_layer_num': 3, 'num_bases': 2, 'adj_dropout': 0, 'lambda_val': 0.5, 'TSAL_head_num': 2, 'TSAL_attn_drop': 0.1, 'cross_attn_head_num': 2, 'cross_attn_drop': 0.1, 'verbose': False, 'debug': True, 'seed': 42, 'file_path': '/home/FYP/siddhant005/fyp/code/data/processed/ml-100k/', 'batch_size': 256}\n",
      "Epoch\tLoss\t\tP@10\tR@10\tMAP@10\tNDCG@10\t\tP@20\tR@20\tMAP@20\tNDCG@20\n",
      "1\t2.168\t\t0.081\t0.040\t0.030\t0.083\t\t0.077\t0.077\t0.020\t0.080\n",
      "2\t1.056\t\t0.060\t0.030\t0.022\t0.062\t\t0.059\t0.059\t0.015\t0.061\n",
      "3\t0.640\t\t0.067\t0.034\t0.028\t0.075\t\t0.068\t0.068\t0.018\t0.072\n",
      "4\t0.585\t\t0.084\t0.042\t0.032\t0.087\t\t0.076\t0.076\t0.021\t0.080\n",
      "5\t0.472\t\t0.092\t0.046\t0.033\t0.091\t\t0.074\t0.074\t0.021\t0.079\n",
      "6\t0.418\t\t0.082\t0.041\t0.031\t0.083\t\t0.072\t0.072\t0.020\t0.076\n",
      "7\t0.352\t\t0.082\t0.041\t0.032\t0.087\t\t0.077\t0.077\t0.021\t0.082\n",
      "8\t0.397\t\t0.092\t0.046\t0.034\t0.092\t\t0.083\t0.083\t0.023\t0.085\n",
      "9\t0.384\t\t0.082\t0.041\t0.034\t0.090\t\t0.077\t0.077\t0.022\t0.083\n",
      "10\t0.363\t\t0.096\t0.048\t0.038\t0.101\t\t0.081\t0.081\t0.024\t0.089\n"
     ]
    }
   ],
   "source": [
    "# Movielens-100K \n",
    "!python3 main.py --dataset ml100k --debug 1 "
   ]
  },
  {
   "cell_type": "code",
   "execution_count": null,
   "metadata": {},
   "outputs": [],
   "source": []
  }
 ],
 "metadata": {
  "kernelspec": {
   "display_name": "retagnn_pyg",
   "language": "python",
   "name": "python3"
  },
  "language_info": {
   "codemirror_mode": {
    "name": "ipython",
    "version": 3
   },
   "file_extension": ".py",
   "mimetype": "text/x-python",
   "name": "python",
   "nbconvert_exporter": "python",
   "pygments_lexer": "ipython3",
   "version": "3.10.13"
  }
 },
 "nbformat": 4,
 "nbformat_minor": 2
}

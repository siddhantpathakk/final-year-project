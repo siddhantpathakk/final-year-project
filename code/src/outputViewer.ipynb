{
 "cells": [
  {
   "cell_type": "code",
   "execution_count": 3,
   "metadata": {},
   "outputs": [
    {
     "name": "stdout",
     "output_type": "stream",
     "text": [
      "GPU 0: Tesla V100-PCIE-32GB (UUID: GPU-73e475a7-966f-91ae-6652-4163028a8284)\n"
     ]
    }
   ],
   "source": [
    "!nvidia-smi -L"
   ]
  },
  {
   "cell_type": "code",
   "execution_count": 4,
   "metadata": {},
   "outputs": [
    {
     "name": "stdout",
     "output_type": "stream",
     "text": [
      "{'H': 3,\n",
      " 'L': 11,\n",
      " 'TSAL_attn_drop': 0.0,\n",
      " 'TSAL_head_num': 2,\n",
      " 'adj_dropout': 0,\n",
      " 'batch_size': 1024,\n",
      " 'conv_layer_num': 2,\n",
      " 'cross_attn_drop': 0.0,\n",
      " 'cross_attn_head_num': 2,\n",
      " 'dataset': 'ml1m',\n",
      " 'debug': True,\n",
      " 'dim': 32,\n",
      " 'epoch_num': 10,\n",
      " 'file_path': '/home/FYP/siddhant005/fyp/code/data/processed_with_gender10/',\n",
      " 'l2': 0.0001,\n",
      " 'lambda_val': 0.5,\n",
      " 'learning_rate': 0.001,\n",
      " 'neg_samples': 2,\n",
      " 'num_bases': 3,\n",
      " 'out_path': '/home/FYP/siddhant005/fyp/code/src/logs/tmp/',\n",
      " 'processed': False,\n",
      " 'seed': 42,\n",
      " 'sets_of_neg_samples': 50,\n",
      " 'short_term_conv_layer_num': 3,\n",
      " 'topk': 20,\n",
      " 'verbose': True}\n",
      "========================================================================================================================================================================================================\n",
      "[STATUS] Commencing training for 10 epochs\n",
      "\n",
      "Epoch\tTime\tLoss\t\tP@10\tR@10\tMAP@10\tNDCG@10\tHR@10\t\tP@20\tR@20\tMAP@20\tNDCG@20\tHR@20\n",
      "1\t02m45s\t0.058\t\t0.065\t0.033\t0.026\t0.067\t0.353\t\t0.054\t0.054\t0.018\t0.058\t0.401\n",
      "2\t02m44s\t0.043\t\t0.059\t0.029\t0.027\t0.066\t0.336\t\t0.057\t0.057\t0.019\t0.063\t0.492\n",
      "3\t02m44s\t0.041\t\t0.068\t0.034\t0.026\t0.066\t0.363\t\t0.059\t0.059\t0.020\t0.061\t0.386\n",
      "4\t02m45s\t0.036\t\t0.066\t0.033\t0.025\t0.064\t0.347\t\t0.059\t0.059\t0.018\t0.059\t0.490\n",
      "5\t02m45s\t0.045\t\t0.070\t0.035\t0.027\t0.070\t0.421\t\t0.063\t0.063\t0.020\t0.065\t0.473\n",
      "6\t02m45s\t0.043\t\t0.070\t0.035\t0.030\t0.073\t0.370\t\t0.057\t0.057\t0.020\t0.062\t0.397\n",
      "7\t02m44s\t0.039\t\t0.066\t0.033\t0.024\t0.062\t0.354\t\t0.059\t0.059\t0.017\t0.059\t0.491\n",
      "8\t02m46s\t0.045\t\t0.064\t0.032\t0.026\t0.062\t0.332\t\t0.060\t0.060\t0.019\t0.060\t0.406\n",
      "9\t02m44s\t0.042\t\t0.058\t0.029\t0.025\t0.060\t0.294\t\t0.063\t0.063\t0.019\t0.063\t0.511\n",
      "10\t02m44s\t0.051\t\t0.067\t0.033\t0.027\t0.066\t0.352\t\t0.056\t0.056\t0.019\t0.059\t0.390\n"
     ]
    }
   ],
   "source": [
    "# without cross-attention\n",
    "! /home/FYP/siddhant005/.conda/envs/retagnn_pyg/bin/python3 /home/FYP/siddhant005/fyp/code/src/main.py --dataset ml1m --verbose 1 --debug 1"
   ]
  }
 ],
 "metadata": {
  "kernelspec": {
   "display_name": "retagnn_pyg",
   "language": "python",
   "name": "retagnn_pyg"
  }
 },
 "nbformat": 4,
 "nbformat_minor": 2
}

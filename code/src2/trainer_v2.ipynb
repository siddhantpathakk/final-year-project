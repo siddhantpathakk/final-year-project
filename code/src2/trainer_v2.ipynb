{
 "cells": [
  {
   "cell_type": "code",
   "execution_count": 7,
   "metadata": {},
   "outputs": [
    {
     "name": "stdout",
     "output_type": "stream",
     "text": [
      "GPU 0: Tesla V100-PCIE-32GB (UUID: GPU-5cdd910f-cccb-fa96-ac14-db976848bbda)\n"
     ]
    }
   ],
   "source": [
    "!nvidia-smi -L"
   ]
  },
  {
   "cell_type": "code",
   "execution_count": 8,
   "metadata": {},
   "outputs": [
    {
     "name": "stdout",
     "output_type": "stream",
     "text": [
      "/home/FYP/siddhant005/.conda/envs/retagnn_pyg/bin/python\n"
     ]
    }
   ],
   "source": [
    "! which python"
   ]
  },
  {
   "cell_type": "code",
   "execution_count": 15,
   "metadata": {},
   "outputs": [
    {
     "name": "stdout",
     "output_type": "stream",
     "text": [
      "{   'CAL_head_num': 2,\n",
      "    'FFN': 'PointWise',\n",
      "    'H': 3,\n",
      "    'L': 10,\n",
      "    'TSAL_head_num': 2,\n",
      "    'attn_drop': 0.1,\n",
      "    'batch_size': 128,\n",
      "    'block_backprop': False,\n",
      "    'conv_layer_num': 3,\n",
      "    'dataset': 'ml-100k',\n",
      "    'debug': False,\n",
      "    'device': device(type='cuda'),\n",
      "    'dim': 32,\n",
      "    'epoch_num': 20,\n",
      "    'file_path': '/home/FYP/siddhant005/fyp/code/data/processed_timesteps/ml-100k/',\n",
      "    'hop': 2,\n",
      "    'l2': 0.0001,\n",
      "    'learning_rate': 0.001,\n",
      "    'negative_num': 2,\n",
      "    'num_bases': 3,\n",
      "    'optimizer': 'adam',\n",
      "    'plot_dir': 'runs/run3/plots',\n",
      "    'seed': 42,\n",
      "    'short_conv_layer_num': 3,\n",
      "    'topk': 20,\n",
      "    'verbose': True}\n",
      "INFO:\tmain:\tOutputs will be saved in: runs/run3\n",
      "INFO:\tmain:\tUsing seed: 42\n",
      "INFO:\tmain:\tUsing device: cuda\n",
      "INFO:\tmain:\tCommencing data collection for ml-100k\n",
      "INFO:\tdataloader:\tData preprocessing completed\n",
      "INFO:\tdataloader:\tuid2locid_time: 568 \n",
      "INFO:\tdataloader:\tlocid2detail: 1439 \n",
      "INFO:\tdataloader:\tnode_num: 2012 \n",
      "INFO:\tdataloader:\trelation_num: 4 \n",
      "INFO:\tdataloader:\tuser_num: 568 \n",
      "INFO:\tdataloader:\ttrain_num: 4544 \n",
      "INFO:\tdataloader:\ttest_num: 568 \n",
      "INFO:\tdataloader:\ttrain_set: (4544, 13) \n",
      "INFO:\tdataloader:\ttest_set: (568, 10) \n",
      "INFO:\tdataloader:\tuid_list_: 568 \n",
      "INFO:\tdataloader:\tu2v: 568 \n",
      "INFO:\tdataloader:\tu2vc: 568 \n",
      "INFO:\tdataloader:\tv2u: 1439 \n",
      "INFO:\tdataloader:\tv2vc: 1439 \n",
      "INFO:\tmain:\tCommencing training for 20 epochs. Please follow Training Logger from here on.\n",
      "INFO:\ttrainer_utils:\tCAGSRec(\n",
      "  (FFN): Sequential(\n",
      "    (0): PointWiseFeedForward(\n",
      "      (conv1): Conv1d(192, 192, kernel_size=(1,), stride=(1,))\n",
      "      (dropout1): Dropout(p=0.1, inplace=False)\n",
      "      (relu): ReLU()\n",
      "      (conv2): Conv1d(192, 192, kernel_size=(1,), stride=(1,))\n",
      "      (dropout2): Dropout(p=0.1, inplace=False)\n",
      "    )\n",
      "    (1): LayerNorm((192,), eps=1e-08, elementwise_affine=True)\n",
      "  )\n",
      "  (long_term_gnn): LongTermGNN(\n",
      "    (conv_modulelist): ModuleList(\n",
      "      (0-2): 3 x ImprovedGNNunit(32, 32, num_relations=4)\n",
      "    )\n",
      "  )\n",
      "  (short_term_gnn): ShortTermGNN(\n",
      "    (conv_modulelist): ModuleList(\n",
      "      (0-2): 3 x ImprovedGNNunit(32, 32, num_relations=4)\n",
      "    )\n",
      "  )\n",
      "  (temporal_seq_attn_layer): TemporalSequentialAttentionLayer_v2(\n",
      "    (drop_layer): Dropout(p=0.1, inplace=False)\n",
      "    (feedforward): Sequential(\n",
      "      (0): PointWiseFeedForward(\n",
      "        (conv1): Conv1d(192, 192, kernel_size=(1,), stride=(1,))\n",
      "        (dropout1): Dropout(p=0.1, inplace=False)\n",
      "        (relu): ReLU()\n",
      "        (conv2): Conv1d(192, 192, kernel_size=(1,), stride=(1,))\n",
      "        (dropout2): Dropout(p=0.1, inplace=False)\n",
      "      )\n",
      "      (1): LayerNorm((192,), eps=1e-08, elementwise_affine=True)\n",
      "    )\n",
      "  )\n",
      "  (cross_attn_layer): CrossAttentionLayer_v2(\n",
      "    (drop_layer): Dropout(p=0.1, inplace=False)\n",
      "    (feedforward): Sequential(\n",
      "      (0): PointWiseFeedForward(\n",
      "        (conv1): Conv1d(192, 192, kernel_size=(1,), stride=(1,))\n",
      "        (dropout1): Dropout(p=0.1, inplace=False)\n",
      "        (relu): ReLU()\n",
      "        (conv2): Conv1d(192, 192, kernel_size=(1,), stride=(1,))\n",
      "        (dropout2): Dropout(p=0.1, inplace=False)\n",
      "      )\n",
      "      (1): LayerNorm((192,), eps=1e-08, elementwise_affine=True)\n",
      "    )\n",
      "  )\n",
      "  (predict_emb_w): Embedding(1439, 192, padding_idx=0)\n",
      "  (predict_emb_b): Embedding(1439, 1, padding_idx=0)\n",
      "  (node_embeddings): Embedding(2012, 32, padding_idx=0)\n",
      ")\n",
      "INFO:\ttrainer_utils:\tOptimizer:\tAdam with initial lr = 0.001, l2 = 0.0001\n",
      "INFO:\ttrainer_utils:\tLR Scheduler:\tLinearLR\n",
      "Epoch 1/20:   0%|\u001b[32m   \u001b[0m| 0/20 [00:08<?, ?it/s, Loss=0.99, P@10=0.0789, R@10=0.0394]\u001b[0m\n",
      "Epoch 2/20:   0%|\u001b[32m  \u001b[0m| 0/20 [00:05<?, ?it/s, Loss=0.998, P@10=0.0227, R@10=0.0114]\u001b[0m\n",
      "Epoch 3/20:   0%|\u001b[32m   \u001b[0m| 0/20 [00:05<?, ?it/s, Loss=1.17, P@10=0.0729, R@10=0.0364]\u001b[0m\n",
      "Epoch 4/20:   0%|\u001b[32m   \u001b[0m| 0/20 [00:05<?, ?it/s, Loss=1.14, P@10=0.0743, R@10=0.0371]\u001b[0m\n",
      "Epoch 5/20:   0%|\u001b[32m  \u001b[0m| 0/20 [00:05<?, ?it/s, Loss=0.973, P@10=0.0586, R@10=0.0293]\u001b[0m\n",
      "Epoch 6/20:   0%|\u001b[32m  \u001b[0m| 0/20 [00:05<?, ?it/s, Loss=0.924, P@10=0.0863, R@10=0.0431]\u001b[0m\n",
      "Epoch 7/20:   0%|\u001b[32m  \u001b[0m| 0/20 [00:05<?, ?it/s, Loss=0.887, P@10=0.0803, R@10=0.0401]\u001b[0m\n",
      "Epoch 8/20:   0%|\u001b[32m  \u001b[0m| 0/20 [00:05<?, ?it/s, Loss=0.862, P@10=0.0794, R@10=0.0397]\u001b[0m\n",
      "Epoch 9/20:   0%|\u001b[32m  \u001b[0m| 0/20 [00:05<?, ?it/s, Loss=0.834, P@10=0.0702, R@10=0.0351]\u001b[0m\n",
      "Epoch 10/20:   0%|\u001b[32m \u001b[0m| 0/20 [00:05<?, ?it/s, Loss=0.825, P@10=0.0776, R@10=0.0388]\u001b[0m\n",
      "Epoch 11/20:   0%|\u001b[32m \u001b[0m| 0/20 [00:05<?, ?it/s, Loss=0.815, P@10=0.0884, R@10=0.0442]\u001b[0m\n",
      "Epoch 12/20:   0%|\u001b[32m \u001b[0m| 0/20 [00:05<?, ?it/s, Loss=0.795, P@10=0.0923, R@10=0.0461]\u001b[0m\n",
      "Epoch 13/20:   0%|\u001b[32m \u001b[0m| 0/20 [00:05<?, ?it/s, Loss=0.781, P@10=0.0798, R@10=0.0399]\u001b[0m\n",
      "Epoch 14/20:   0%|\u001b[32m  \u001b[0m| 0/20 [00:05<?, ?it/s, Loss=0.77, P@10=0.0796, R@10=0.0398]\u001b[0m\n",
      "Epoch 15/20:   0%|\u001b[32m \u001b[0m| 0/20 [00:05<?, ?it/s, Loss=0.752, P@10=0.0912, R@10=0.0456]\u001b[0m\n",
      "Epoch 16/20:   0%|\u001b[32m \u001b[0m| 0/20 [00:05<?, ?it/s, Loss=0.729, P@10=0.0993, R@10=0.0496]\u001b[0m\n",
      "Epoch 17/20:   0%|\u001b[32m \u001b[0m| 0/20 [00:05<?, ?it/s, Loss=0.723, P@10=0.0905, R@10=0.0452]\u001b[0m\n",
      "Epoch 18/20:   0%|\u001b[32m \u001b[0m| 0/20 [00:05<?, ?it/s, Loss=0.712, P@10=0.0958, R@10=0.0479]\u001b[0m\n",
      "Epoch 19/20:   0%|\u001b[32m  \u001b[0m| 0/20 [00:05<?, ?it/s, Loss=0.703, P@10=0.0861, R@10=0.043]\u001b[0m\n",
      "Epoch 20/20:   0%|\u001b[32m \u001b[0m| 0/20 [00:05<?, ?it/s, Loss=0.686, P@10=0.0887, R@10=0.0444]\u001b[0m\n",
      "INFO:\tmain:\tCompleted training for 20 epochs\n",
      "INFO:\tmain:\tModel saved at runs/run3/model.pth\n",
      "INFO:\tmain:\tCompleted run 3\n"
     ]
    }
   ],
   "source": [
    "! python code/src2/main.py --file_path /home/FYP/siddhant005/fyp/code/data/processed_timesteps/ml-100k/ --epoch_num 20"
   ]
  },
  {
   "cell_type": "code",
   "execution_count": null,
   "metadata": {},
   "outputs": [],
   "source": []
  }
 ],
 "metadata": {
  "kernelspec": {
   "display_name": "Python 3 (ipykernel)",
   "language": "python",
   "name": "python3"
  },
  "language_info": {
   "codemirror_mode": {
    "name": "ipython",
    "version": 3
   },
   "file_extension": ".py",
   "mimetype": "text/x-python",
   "name": "python",
   "nbconvert_exporter": "python",
   "pygments_lexer": "ipython3",
   "version": "3.10.13"
  }
 },
 "nbformat": 4,
 "nbformat_minor": 2
}

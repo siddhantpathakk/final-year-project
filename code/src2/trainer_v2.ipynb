{
 "cells": [
  {
   "cell_type": "code",
   "execution_count": 10,
   "metadata": {},
   "outputs": [
    {
     "name": "stdout",
     "output_type": "stream",
     "text": [
      "GPU 0: Tesla V100-PCIE-32GB (UUID: GPU-5cdd910f-cccb-fa96-ac14-db976848bbda)\n"
     ]
    }
   ],
   "source": [
    "!nvidia-smi -L"
   ]
  },
  {
   "cell_type": "code",
   "execution_count": 11,
   "metadata": {},
   "outputs": [
    {
     "name": "stdout",
     "output_type": "stream",
     "text": [
      "/home/FYP/siddhant005/.conda/envs/retagnn_pyg/bin/python\n"
     ]
    }
   ],
   "source": [
    "! which python"
   ]
  },
  {
   "cell_type": "code",
   "execution_count": 29,
   "metadata": {},
   "outputs": [
    {
     "name": "stdout",
     "output_type": "stream",
     "text": [
      "{   'CAL_head_num': 2,\n",
      "    'FFN': 'Simple',\n",
      "    'H': 3,\n",
      "    'L': 10,\n",
      "    'TSAL_head_num': 2,\n",
      "    'attn_drop': 0.1,\n",
      "    'batch_size': 128,\n",
      "    'block_backprop': False,\n",
      "    'conv_layer_num': 3,\n",
      "    'dataset': 'ml100k',\n",
      "    'debug': False,\n",
      "    'device': 'cpu',\n",
      "    'dim': 32,\n",
      "    'epoch_num': 500,\n",
      "    'file_path': '/home/FYP/siddhant005/fyp/code/data/processed_timesteps/ml-100k/',\n",
      "    'hop': 2,\n",
      "    'l2': 0.0001,\n",
      "    'learning_rate': 0.001,\n",
      "    'log_file': 'logs.log',\n",
      "    'negative_num': 2,\n",
      "    'num_bases': 3,\n",
      "    'optimizer': 'adam',\n",
      "    'out_path': '',\n",
      "    'seed': 42,\n",
      "    'short_conv_layer_num': 3,\n",
      "    'topk': 20,\n",
      "    'verbose': True}\n",
      "INFO:\tmain_v2:\tUsing seed: 42\n",
      "INFO:\tmain_v2:\tUsing device: cpu\n",
      "INFO:\tmain_v2:\tCommencing data collection for ml100k\n",
      "INFO:\tdataloader:\tData preprocessing completed\n",
      "INFO:\tdataloader:\tuid2locid_time: 568 \n",
      "INFO:\tdataloader:\tlocid2detail: 1439 \n",
      "INFO:\tdataloader:\tnode_num: 2012 \n",
      "INFO:\tdataloader:\trelation_num: 4 \n",
      "INFO:\tdataloader:\tuser_num: 568 \n",
      "INFO:\tdataloader:\ttrain_num: 4544 \n",
      "INFO:\tdataloader:\ttest_num: 568 \n",
      "INFO:\tdataloader:\ttrain_set: (4544, 13) \n",
      "INFO:\tdataloader:\ttest_set: (568, 10) \n",
      "INFO:\tdataloader:\tuid_list_: 568 \n",
      "INFO:\tdataloader:\tu2v: 568 \n",
      "INFO:\tdataloader:\tu2vc: 568 \n",
      "INFO:\tdataloader:\tv2u: 1439 \n",
      "INFO:\tdataloader:\tv2vc: 1439 \n",
      "INFO:\tmain_v2:\tCommencing training for 500 epochs\n",
      "INFO:\ttrainer_v2:\tCAGSRec(\n",
      "  (FFN): Sequential(\n",
      "    (0): Linear(in_features=192, out_features=192, bias=True)\n",
      "    (1): LayerNorm((192,), eps=1e-08, elementwise_affine=True)\n",
      "  )\n",
      "  (long_term_gnn): LongTermGNN(\n",
      "    (conv_modulelist): ModuleList(\n",
      "      (0-2): 3 x ImprovedGNNunit(32, 32, num_relations=4)\n",
      "    )\n",
      "  )\n",
      "  (short_term_gnn): ShortTermGNN(\n",
      "    (conv_modulelist): ModuleList(\n",
      "      (0-2): 3 x ImprovedGNNunit(32, 32, num_relations=4)\n",
      "    )\n",
      "  )\n",
      "  (temporal_seq_attn_layer): TemporalSequentialAttentionLayer_v2(\n",
      "    (drop_layer): Dropout(p=0.1, inplace=False)\n",
      "    (feedforward): Sequential(\n",
      "      (0): Linear(in_features=192, out_features=192, bias=True)\n",
      "      (1): LayerNorm((192,), eps=1e-08, elementwise_affine=True)\n",
      "    )\n",
      "  )\n",
      "  (cross_attn_layer): CrossAttentionLayer_v2(\n",
      "    (drop_layer): Dropout(p=0.1, inplace=False)\n",
      "    (feedforward): Sequential(\n",
      "      (0): Linear(in_features=192, out_features=192, bias=True)\n",
      "      (1): LayerNorm((192,), eps=1e-08, elementwise_affine=True)\n",
      "    )\n",
      "  )\n",
      "  (predict_emb_w): Embedding(1439, 192, padding_idx=0)\n",
      "  (predict_emb_b): Embedding(1439, 1, padding_idx=0)\n",
      "  (node_embeddings): Embedding(2012, 32, padding_idx=0)\n",
      ")\n",
      "INFO:\ttrainer_v2:\tOptimizer:\tAdam with initial lr = 0.001, l2 = 0.0001\n",
      "INFO:\ttrainer_v2:\tLR Scheduler:\tLinearLR\n",
      "Epoch Progress:   0%|                                   | 0/500 [00:00<?, ?it/s]\n",
      "Epoch 1/500 - Loss: 0.6178 - Time: 00m19s\n",
      "Traceback (most recent call last):                                              \n",
      "  File \"/home/FYP/siddhant005/fyp/code/src2/main_v2.py\", line 33, in <module>\n",
      "    trainer.train(train_part=train_part,test_part=test_part)\n",
      "  File \"/home/FYP/siddhant005/fyp/code/src2/trainer_v2.py\", line 325, in train\n",
      "    precision, recall, MAP, ndcg, hr = self.evaluate(users_np_test, sequences_np_test, test_set, return_metrics=True)\n",
      "  File \"/home/FYP/siddhant005/fyp/code/src2/trainer_v2.py\", line 378, in evaluate\n",
      "    rating_pred, _, _ = self.model(X_user_item, X_graph_base, for_pred=True)\n",
      "  File \"/home/FYP/siddhant005/.conda/envs/retagnn_pyg/lib/python3.10/site-packages/torch/nn/modules/module.py\", line 1518, in _wrapped_call_impl\n",
      "    return self._call_impl(*args, **kwargs)\n",
      "  File \"/home/FYP/siddhant005/.conda/envs/retagnn_pyg/lib/python3.10/site-packages/torch/nn/modules/module.py\", line 1527, in _call_impl\n",
      "    return forward_call(*args, **kwargs)\n",
      "  File \"/home/FYP/siddhant005/fyp/code/src2/model/CAGSRec_v2.py\", line 130, in forward\n",
      "    res = torch.baddbmm(pe_b, pe_w, user_embeddings.unsqueeze(2)).squeeze()\n",
      "RuntimeError: Expected size for first two dimensions of batch2 tensor to be: [568, 192] but got: [128, 192].\n"
     ]
    }
   ],
   "source": [
    "! python code/src2/main_v2.py --file_path /home/FYP/siddhant005/fyp/code/data/processed_timesteps/ml-100k/ --verbose 1 --FFN Simple"
   ]
  },
  {
   "cell_type": "code",
   "execution_count": null,
   "metadata": {},
   "outputs": [],
   "source": []
  }
 ],
 "metadata": {
  "kernelspec": {
   "display_name": "Python 3 (ipykernel)",
   "language": "python",
   "name": "python3"
  },
  "language_info": {
   "codemirror_mode": {
    "name": "ipython",
    "version": 3
   },
   "file_extension": ".py",
   "mimetype": "text/x-python",
   "name": "python",
   "nbconvert_exporter": "python",
   "pygments_lexer": "ipython3",
   "version": "3.10.13"
  }
 },
 "nbformat": 4,
 "nbformat_minor": 2
}

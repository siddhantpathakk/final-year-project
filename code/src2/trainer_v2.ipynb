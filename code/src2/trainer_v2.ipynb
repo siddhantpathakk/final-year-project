{
 "cells": [
  {
   "cell_type": "code",
   "execution_count": 1,
   "metadata": {},
   "outputs": [
    {
     "name": "stdout",
     "output_type": "stream",
     "text": [
      "/bin/bash: nvidia-smi: command not found\n"
     ]
    }
   ],
   "source": [
    "!nvidia-smi -L"
   ]
  },
  {
   "cell_type": "code",
   "execution_count": 2,
   "metadata": {},
   "outputs": [
    {
     "name": "stdout",
     "output_type": "stream",
     "text": [
      "/home/FYP/siddhant005/.conda/envs/retagnn_pyg/bin/python\n"
     ]
    }
   ],
   "source": [
    "! which python"
   ]
  },
  {
   "cell_type": "code",
   "execution_count": 1,
   "metadata": {},
   "outputs": [
    {
     "name": "stdout",
     "output_type": "stream",
     "text": [
      "{   'CAL_head_num': 2,\n",
      "    'H': 3,\n",
      "    'L': 10,\n",
      "    'TSAL_head_num': 2,\n",
      "    'attn_drop': 0.1,\n",
      "    'batch_size': 128,\n",
      "    'block_backprop': False,\n",
      "    'conv_layer_num': 3,\n",
      "    'dataset': 'ml-100k',\n",
      "    'debug': False,\n",
      "    'device': device(type='cpu'),\n",
      "    'dim': 32,\n",
      "    'epoch_num': 5,\n",
      "    'file_path': '/home/FYP/siddhant005/fyp/code/data/processed_timesteps/ml-100k/',\n",
      "    'hop': 2,\n",
      "    'l2': 0.0001,\n",
      "    'learning_rate': 0.001,\n",
      "    'model_variant': 3,\n",
      "    'negative_num': 2,\n",
      "    'num_bases': 3,\n",
      "    'optimizer': 'adam',\n",
      "    'plot_dir': '/home/FYP/siddhant005/fyp/runs/run6/plots',\n",
      "    'seed': 42,\n",
      "    'short_conv_layer_num': 3,\n",
      "    'topk': 20,\n",
      "    'verbose': True}\n",
      "INFO:\tmain:\tOutputs will be saved in: runs/run6\n",
      "INFO:\tmain:\tUsing seed: 42\n",
      "INFO:\tmain:\tUsing device: cpu\n",
      "INFO:\tmain:\tCommencing data collection for ml-100k\n",
      "INFO:\tdataloader:\tData preprocessing completed\n",
      "INFO:\tdataloader:\tuid2locid_time: 568 \n",
      "INFO:\tdataloader:\tlocid2detail: 1439 \n",
      "INFO:\tdataloader:\tnode_num: 2012 \n",
      "INFO:\tdataloader:\trelation_num: 4 \n",
      "INFO:\tdataloader:\tuser_num: 568 \n",
      "INFO:\tdataloader:\ttrain_num: 4544 \n",
      "INFO:\tdataloader:\ttest_num: 568 \n",
      "INFO:\tdataloader:\ttrain_set: (4544, 13) \n",
      "INFO:\tdataloader:\ttest_set: (568, 10) \n",
      "INFO:\tdataloader:\tuid_list_: 568 \n",
      "INFO:\tdataloader:\tu2v: 568 \n",
      "INFO:\tdataloader:\tu2vc: 568 \n",
      "INFO:\tdataloader:\tv2u: 1439 \n",
      "INFO:\tdataloader:\tv2vc: 1439 \n",
      "INFO:\ttrainer_utils:\tModel:\tCAGSRec with variant 3\n",
      "INFO:\ttrainer_utils:\tCAGSRec(\n",
      "  (long_term_gnn): LongTermGNN(\n",
      "    (conv_modulelist): ModuleList(\n",
      "      (0-2): 3 x ImprovedGNNunit(32, 32, num_relations=4)\n",
      "    )\n",
      "  )\n",
      "  (short_term_gnn): ShortTermGNN(\n",
      "    (conv_modulelist): ModuleList(\n",
      "      (0-2): 3 x ImprovedGNNunit(32, 32, num_relations=4)\n",
      "    )\n",
      "  )\n",
      "  (temporal_seq_attn_layer): TemporalSequentialAttentionLayer_v2(\n",
      "    (drop_layer): Dropout(p=0.1, inplace=False)\n",
      "    (feedforward): PointWiseFeedForward(\n",
      "      (conv1): Conv1d(192, 192, kernel_size=(1,), stride=(1,))\n",
      "      (dropout1): Dropout(p=0.1, inplace=False)\n",
      "      (relu): ReLU()\n",
      "      (conv2): Conv1d(192, 192, kernel_size=(1,), stride=(1,))\n",
      "      (dropout2): Dropout(p=0.1, inplace=False)\n",
      "    )\n",
      "  )\n",
      "  (predict_emb_w): Embedding(1439, 192, padding_idx=0)\n",
      "  (predict_emb_b): Embedding(1439, 1, padding_idx=0)\n",
      "  (node_embeddings): Embedding(2012, 32, padding_idx=0)\n",
      ")\n",
      "INFO:\ttrainer_utils:\tOptimizer:\tAdam with initial lr = 0.001, l2 = 0.0001\n",
      "INFO:\ttrainer_utils:\tLR Scheduler:\tLinearLR\n",
      "INFO:\tmain:\tCommencing training for 5 epochs.\n",
      "INFO:\ttrainer:\tEpoch 1/5 Loss: 2.2851 P@10: 0.0336 R@10: 0.0168 HR@10: 0.2887 MRR: 0.0919\n",
      "INFO:\ttrainer:\tEpoch 2/5 Loss: 2.7729 P@10: 0.0343 R@10: 0.0172 HR@10: 0.2905 MRR: 0.0767\n",
      "INFO:\ttrainer:\tEpoch 3/5 Loss: 3.3151 P@10: 0.0465 R@10: 0.0232 HR@10: 0.3944 MRR: 0.1123\n",
      "INFO:\ttrainer:\tEpoch 4/5 Loss: 2.5757 P@10: 0.0324 R@10: 0.0162 HR@10: 0.2870 MRR: 0.0921\n",
      "INFO:\ttrainer:\tEpoch 5/5 Loss: 2.7614 P@10: 0.0523 R@10: 0.0261 HR@10: 0.4243 MRR: 0.1378\n",
      "INFO:\tmain:\tCompleted training for 5 epochs\n",
      "INFO:\tmain:\tModel saved at runs/run6/model.pth\n",
      "INFO:\tmain:\tCompleted run 6\n"
     ]
    }
   ],
   "source": [
    "! python main.py --file_path /home/FYP/siddhant005/fyp/code/data/processed_timesteps/ml-100k/ --model_variant 3 --epoch_num 5"
   ]
  },
  {
   "cell_type": "code",
   "execution_count": null,
   "metadata": {},
   "outputs": [],
   "source": []
  }
 ],
 "metadata": {
  "kernelspec": {
   "display_name": "Python 3 (ipykernel)",
   "language": "python",
   "name": "python3"
  },
  "language_info": {
   "codemirror_mode": {
    "name": "ipython",
    "version": 3
   },
   "file_extension": ".py",
   "mimetype": "text/x-python",
   "name": "python",
   "nbconvert_exporter": "python",
   "pygments_lexer": "ipython3",
   "version": "3.10.13"
  }
 },
 "nbformat": 4,
 "nbformat_minor": 2
}

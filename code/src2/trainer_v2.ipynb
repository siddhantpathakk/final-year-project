{
 "cells": [
  {
   "cell_type": "code",
   "execution_count": 13,
   "metadata": {},
   "outputs": [
    {
     "name": "stdout",
     "output_type": "stream",
     "text": [
      "GPU 0: Tesla V100-PCIE-32GB (UUID: GPU-616124a6-56d2-d6c8-66c6-9c4fac151415)\n"
     ]
    }
   ],
   "source": [
    "!nvidia-smi -L"
   ]
  },
  {
   "cell_type": "code",
   "execution_count": 14,
   "metadata": {},
   "outputs": [
    {
     "name": "stdout",
     "output_type": "stream",
     "text": [
      "/home/FYP/siddhant005/.conda/envs/retagnn_pyg/bin/python\n"
     ]
    }
   ],
   "source": [
    "! which python"
   ]
  },
  {
   "cell_type": "code",
   "execution_count": 22,
   "metadata": {},
   "outputs": [
    {
     "name": "stdout",
     "output_type": "stream",
     "text": [
      "{   'CAL_head_num': 2,\n",
      "    'FFN': 'Simple',\n",
      "    'H': 3,\n",
      "    'L': 11,\n",
      "    'TSAL_head_num': 2,\n",
      "    'attn_drop': 0.1,\n",
      "    'batch_size': 128,\n",
      "    'block_backprop': False,\n",
      "    'conv_layer_num': 3,\n",
      "    'dataset': 'ml100k',\n",
      "    'debug': False,\n",
      "    'device': 'cpu',\n",
      "    'dim': 32,\n",
      "    'epoch_num': 500,\n",
      "    'file_path': '/home/FYP/siddhant005/fyp/code/data/processed_timesteps/ml-100k/',\n",
      "    'hop': 2,\n",
      "    'l2': 0.0001,\n",
      "    'learning_rate': 0.001,\n",
      "    'log_file': 'code/src2/logs.log',\n",
      "    'negative_num': 2,\n",
      "    'num_bases': 3,\n",
      "    'optimizer': 'adam',\n",
      "    'out_path': 'code/src/logs/tmp/',\n",
      "    'seed': 42,\n",
      "    'short_conv_layer_num': 3,\n",
      "    'topk': 20,\n",
      "    'verbose': True}\n",
      "INFO main_v2 Using seed: 42\n",
      "INFO main_v2 Using device: cpu\n",
      "INFO main_v2 Commencing data collection for ml100k\n",
      "INFO dataloader Data preprocessing completed\n",
      "INFO dataloader uid2locid_time: 563 \n",
      "INFO dataloader locid2detail: 1442 \n",
      "INFO dataloader node_num: 2010 \n",
      "INFO dataloader relation_num: 4 \n",
      "INFO dataloader user_num: 563 \n",
      "INFO dataloader train_num: 3941 \n",
      "INFO dataloader test_num: 563 \n",
      "INFO dataloader train_set: (3941, 14) \n",
      "INFO dataloader test_set: (563, 11) \n",
      "INFO dataloader uid_list_: 563 \n",
      "INFO dataloader u2v: 563 \n",
      "INFO dataloader u2vc: 563 \n",
      "INFO dataloader v2u: 1442 \n",
      "INFO dataloader v2vc: 1442 \n",
      "INFO main_v2 Commencing training for 500 epochs\n",
      "2010 4 node_num, relation_num\n",
      "CAGSRec(\n",
      "  (FFN): Sequential(\n",
      "    (0): SimpleFeedForward(\n",
      "      (ffn): Sequential(\n",
      "        (0): Linear(in_features=192, out_features=192, bias=True)\n",
      "        (1): ReLU()\n",
      "        (2): Dropout(p=0.1, inplace=False)\n",
      "        (3): Linear(in_features=192, out_features=192, bias=True)\n",
      "        (4): ReLU()\n",
      "        (5): Dropout(p=0.1, inplace=False)\n",
      "      )\n",
      "    )\n",
      "    (1): LayerNorm((192,), eps=1e-08, elementwise_affine=True)\n",
      "  )\n",
      "  (temporal_seq_attn_layer): TemporalSequentialAttentionLayer(\n",
      "    (multihead_attn): MultiheadAttention(\n",
      "      (out_proj): NonDynamicallyQuantizableLinear(in_features=192, out_features=192, bias=True)\n",
      "    )\n",
      "    (dropout): Dropout(p=0.1, inplace=False)\n",
      "    (layer_norm): LayerNorm((192,), eps=1e-05, elementwise_affine=True)\n",
      "    (feedforward): Sequential(\n",
      "      (0): SimpleFeedForward(\n",
      "        (ffn): Sequential(\n",
      "          (0): Linear(in_features=192, out_features=192, bias=True)\n",
      "          (1): ReLU()\n",
      "          (2): Dropout(p=0.1, inplace=False)\n",
      "          (3): Linear(in_features=192, out_features=192, bias=True)\n",
      "          (4): ReLU()\n",
      "          (5): Dropout(p=0.1, inplace=False)\n",
      "        )\n",
      "      )\n",
      "      (1): LayerNorm((192,), eps=1e-08, elementwise_affine=True)\n",
      "    )\n",
      "  )\n",
      "  (cross_attn_layer): CrossAttentionLayer(\n",
      "    (multihead_attn): MultiheadAttention(\n",
      "      (out_proj): NonDynamicallyQuantizableLinear(in_features=192, out_features=192, bias=True)\n",
      "    )\n",
      "    (dropout): Dropout(p=0.1, inplace=False)\n",
      "    (layer_norm): LayerNorm((192,), eps=1e-05, elementwise_affine=True)\n",
      "    (feedforward): Sequential(\n",
      "      (0): SimpleFeedForward(\n",
      "        (ffn): Sequential(\n",
      "          (0): Linear(in_features=192, out_features=192, bias=True)\n",
      "          (1): ReLU()\n",
      "          (2): Dropout(p=0.1, inplace=False)\n",
      "          (3): Linear(in_features=192, out_features=192, bias=True)\n",
      "          (4): ReLU()\n",
      "          (5): Dropout(p=0.1, inplace=False)\n",
      "        )\n",
      "      )\n",
      "      (1): LayerNorm((192,), eps=1e-08, elementwise_affine=True)\n",
      "    )\n",
      "  )\n",
      "  (long_term_gnn): LongTermGNN(\n",
      "    (conv_modulelist): ModuleList(\n",
      "      (0-2): 3 x ImprovedGNNunit(32, 32, num_relations=4)\n",
      "    )\n",
      "  )\n",
      "  (short_term_gnn): ShortTermGNN(\n",
      "    (short_conv_modulelist): ModuleList(\n",
      "      (0-2): 3 x ImprovedGNNunit(32, 32, num_relations=4)\n",
      "    )\n",
      "  )\n",
      "  (predict_emb_w): Embedding(1442, 192, padding_idx=0)\n",
      "  (predict_emb_b): Embedding(1442, 1, padding_idx=0)\n",
      "  (node_embeddings): Embedding(2010, 32, padding_idx=0)\n",
      ")\n",
      "Optimizer:\tAdam with initial lr = 0.001, l2 = 0.0001\n",
      "LR Scheduler:\tLinearLR\n",
      "Traceback (most recent call last):                                              \n",
      "  File \"/home/FYP/siddhant005/fyp/code/src2/main_v2.py\", line 21, in <module>\n",
      "    trainer.train(train_part=train_part,test_part=test_part)\n",
      "  File \"/home/FYP/siddhant005/fyp/code/src2/trainer_v2.py\", line 325, in train\n",
      "    precision, recall, MAP, ndcg, hr = self.evaluate(users_np_test, sequences_np_test, test_set, return_metrics=True)\n",
      "  File \"/home/FYP/siddhant005/fyp/code/src2/trainer_v2.py\", line 373, in evaluate\n",
      "    rating_pred = self.model(X_user_item, X_graph_base, for_pred=True)\n",
      "  File \"/home/FYP/siddhant005/.conda/envs/retagnn_pyg/lib/python3.10/site-packages/torch/nn/modules/module.py\", line 1518, in _wrapped_call_impl\n",
      "    return self._call_impl(*args, **kwargs)\n",
      "  File \"/home/FYP/siddhant005/.conda/envs/retagnn_pyg/lib/python3.10/site-packages/torch/nn/modules/module.py\", line 1527, in _call_impl\n",
      "    return forward_call(*args, **kwargs)\n",
      "  File \"/home/FYP/siddhant005/fyp/code/src2/model/CAGSRec.py\", line 103, in forward\n",
      "    res = user_embeddings.mm(pe_w.t()) + pe_b \n",
      "RuntimeError: t() expects a tensor with <= 2 dimensions, but self is 3D\n"
     ]
    }
   ],
   "source": [
    "! python code/src2/main_v2.py --file_path /home/FYP/siddhant005/fyp/code/data/processed_timesteps/ml-100k/ --verbose 1"
   ]
  },
  {
   "cell_type": "code",
   "execution_count": null,
   "metadata": {},
   "outputs": [],
   "source": []
  }
 ],
 "metadata": {
  "kernelspec": {
   "display_name": "retagnn_pyg",
   "language": "python",
   "name": "retagnn_pyg"
  },
  "language_info": {
   "codemirror_mode": {
    "name": "ipython",
    "version": 3
   },
   "file_extension": ".py",
   "mimetype": "text/x-python",
   "name": "python",
   "nbconvert_exporter": "python",
   "pygments_lexer": "ipython3",
   "version": "3.10.13"
  }
 },
 "nbformat": 4,
 "nbformat_minor": 2
}

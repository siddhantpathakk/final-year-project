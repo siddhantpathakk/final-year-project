{
 "cells": [
  {
   "cell_type": "code",
   "execution_count": 7,
   "metadata": {},
   "outputs": [
    {
     "name": "stdout",
     "output_type": "stream",
     "text": [
      "GPU 0: Tesla V100-PCIE-32GB (UUID: GPU-5cdd910f-cccb-fa96-ac14-db976848bbda)\n"
     ]
    }
   ],
   "source": [
    "!nvidia-smi -L"
   ]
  },
  {
   "cell_type": "code",
   "execution_count": 8,
   "metadata": {},
   "outputs": [
    {
     "name": "stdout",
     "output_type": "stream",
     "text": [
      "/home/FYP/siddhant005/.conda/envs/retagnn_pyg/bin/python\n"
     ]
    }
   ],
   "source": [
    "! which python"
   ]
  },
  {
   "cell_type": "code",
   "execution_count": 14,
   "metadata": {},
   "outputs": [
    {
     "name": "stdout",
     "output_type": "stream",
     "text": [
      "{   'CAL_head_num': 2,\n",
      "    'FFN': 'PointWise',\n",
      "    'H': 3,\n",
      "    'L': 10,\n",
      "    'TSAL_head_num': 2,\n",
      "    'attn_drop': 0.1,\n",
      "    'batch_size': 128,\n",
      "    'block_backprop': False,\n",
      "    'conv_layer_num': 3,\n",
      "    'dataset': 'ml-100k',\n",
      "    'debug': False,\n",
      "    'device': 'cpu',\n",
      "    'dim': 32,\n",
      "    'epoch_num': 20,\n",
      "    'file_path': '/home/FYP/siddhant005/fyp/code/data/processed_timesteps/ml-100k/',\n",
      "    'hop': 2,\n",
      "    'l2': 0.0001,\n",
      "    'learning_rate': 0.001,\n",
      "    'negative_num': 2,\n",
      "    'num_bases': 3,\n",
      "    'optimizer': 'adam',\n",
      "    'plot_dir': 'runs/run2/plots',\n",
      "    'seed': 42,\n",
      "    'short_conv_layer_num': 3,\n",
      "    'topk': 20,\n",
      "    'verbose': True}\n",
      "INFO:\tmain:\tOutputs will be saved in: runs/run2\n",
      "INFO:\tmain:\tUsing seed: 42\n",
      "INFO:\tmain:\tUsing device: cpu\n",
      "INFO:\tmain:\tCommencing data collection for ml-100k\n",
      "INFO:\tdataloader:\tData preprocessing completed\n",
      "INFO:\tdataloader:\tuid2locid_time: 568 \n",
      "INFO:\tdataloader:\tlocid2detail: 1439 \n",
      "INFO:\tdataloader:\tnode_num: 2012 \n",
      "INFO:\tdataloader:\trelation_num: 4 \n",
      "INFO:\tdataloader:\tuser_num: 568 \n",
      "INFO:\tdataloader:\ttrain_num: 4544 \n",
      "INFO:\tdataloader:\ttest_num: 568 \n",
      "INFO:\tdataloader:\ttrain_set: (4544, 13) \n",
      "INFO:\tdataloader:\ttest_set: (568, 10) \n",
      "INFO:\tdataloader:\tuid_list_: 568 \n",
      "INFO:\tdataloader:\tu2v: 568 \n",
      "INFO:\tdataloader:\tu2vc: 568 \n",
      "INFO:\tdataloader:\tv2u: 1439 \n",
      "INFO:\tdataloader:\tv2vc: 1439 \n",
      "INFO:\tmain:\tCommencing training for 20 epochs. Please follow Training Logger from here on.\n",
      "INFO:\ttrainer_utils:\tCAGSRec(\n",
      "  (FFN): Sequential(\n",
      "    (0): PointWiseFeedForward(\n",
      "      (conv1): Conv1d(192, 192, kernel_size=(1,), stride=(1,))\n",
      "      (dropout1): Dropout(p=0.1, inplace=False)\n",
      "      (relu): ReLU()\n",
      "      (conv2): Conv1d(192, 192, kernel_size=(1,), stride=(1,))\n",
      "      (dropout2): Dropout(p=0.1, inplace=False)\n",
      "    )\n",
      "    (1): LayerNorm((192,), eps=1e-08, elementwise_affine=True)\n",
      "  )\n",
      "  (long_term_gnn): LongTermGNN(\n",
      "    (conv_modulelist): ModuleList(\n",
      "      (0-2): 3 x ImprovedGNNunit(32, 32, num_relations=4)\n",
      "    )\n",
      "  )\n",
      "  (short_term_gnn): ShortTermGNN(\n",
      "    (conv_modulelist): ModuleList(\n",
      "      (0-2): 3 x ImprovedGNNunit(32, 32, num_relations=4)\n",
      "    )\n",
      "  )\n",
      "  (temporal_seq_attn_layer): TemporalSequentialAttentionLayer_v2(\n",
      "    (drop_layer): Dropout(p=0.1, inplace=False)\n",
      "    (feedforward): Sequential(\n",
      "      (0): PointWiseFeedForward(\n",
      "        (conv1): Conv1d(192, 192, kernel_size=(1,), stride=(1,))\n",
      "        (dropout1): Dropout(p=0.1, inplace=False)\n",
      "        (relu): ReLU()\n",
      "        (conv2): Conv1d(192, 192, kernel_size=(1,), stride=(1,))\n",
      "        (dropout2): Dropout(p=0.1, inplace=False)\n",
      "      )\n",
      "      (1): LayerNorm((192,), eps=1e-08, elementwise_affine=True)\n",
      "    )\n",
      "  )\n",
      "  (cross_attn_layer): CrossAttentionLayer_v2(\n",
      "    (drop_layer): Dropout(p=0.1, inplace=False)\n",
      "    (feedforward): Sequential(\n",
      "      (0): PointWiseFeedForward(\n",
      "        (conv1): Conv1d(192, 192, kernel_size=(1,), stride=(1,))\n",
      "        (dropout1): Dropout(p=0.1, inplace=False)\n",
      "        (relu): ReLU()\n",
      "        (conv2): Conv1d(192, 192, kernel_size=(1,), stride=(1,))\n",
      "        (dropout2): Dropout(p=0.1, inplace=False)\n",
      "      )\n",
      "      (1): LayerNorm((192,), eps=1e-08, elementwise_affine=True)\n",
      "    )\n",
      "  )\n",
      "  (predict_emb_w): Embedding(1439, 192, padding_idx=0)\n",
      "  (predict_emb_b): Embedding(1439, 1, padding_idx=0)\n",
      "  (node_embeddings): Embedding(2012, 32, padding_idx=0)\n",
      ")\n",
      "INFO:\ttrainer_utils:\tOptimizer:\tAdam with initial lr = 0.001, l2 = 0.0001\n",
      "INFO:\ttrainer_utils:\tLR Scheduler:\tLinearLR\n",
      "Epoch 1/20:   0%|\u001b[32m  \u001b[0m| 0/20 [00:20<?, ?it/s, Loss=0.784, P@10=0.0891, R@10=0.0445]\u001b[0m\n",
      "Epoch 2/20:   0%|\u001b[32m \u001b[0m| 0/20 [00:19<?, ?it/s, Loss=0.621, P@10=0.0181, R@10=0.00907]\u001b[0m\n",
      "Epoch 3/20:   0%|\u001b[32m   \u001b[0m| 0/20 [00:19<?, ?it/s, Loss=0.804, P@10=0.063, R@10=0.0315]\u001b[0m\n",
      "Epoch 4/20:   0%|\u001b[32m  \u001b[0m| 0/20 [00:19<?, ?it/s, Loss=0.588, P@10=0.0243, R@10=0.0121]\u001b[0m\n",
      "Epoch 5/20:   0%|\u001b[32m  \u001b[0m| 0/20 [00:20<?, ?it/s, Loss=0.696, P@10=0.0643, R@10=0.0321]\u001b[0m\n",
      "Epoch 6/20:   0%|\u001b[32m  \u001b[0m| 0/20 [00:19<?, ?it/s, Loss=0.554, P@10=0.0317, R@10=0.0158]\u001b[0m\n",
      "Epoch 7/20:   0%|\u001b[32m   \u001b[0m| 0/20 [00:19<?, ?it/s, Loss=0.563, P@10=0.065, R@10=0.0325]\u001b[0m\n",
      "Epoch 8/20:   0%|\u001b[32m  \u001b[0m| 0/20 [00:19<?, ?it/s, Loss=0.494, P@10=0.0324, R@10=0.0162]\u001b[0m\n",
      "Epoch 9/20:   0%|\u001b[32m  \u001b[0m| 0/20 [00:19<?, ?it/s, Loss=0.622, P@10=0.0798, R@10=0.0399]\u001b[0m\n",
      "Epoch 10/20:   0%|\u001b[32m \u001b[0m| 0/20 [00:19<?, ?it/s, Loss=0.524, P@10=0.0533, R@10=0.0267]\u001b[0m\n",
      "Epoch 11/20:   0%|\u001b[32m  \u001b[0m| 0/20 [00:19<?, ?it/s, Loss=0.543, P@10=0.063, R@10=0.0315]\u001b[0m\n",
      "Epoch 12/20:   0%|\u001b[32m  \u001b[0m| 0/20 [00:19<?, ?it/s, Loss=0.491, P@10=0.0641, R@10=0.032]\u001b[0m\n",
      "Epoch 13/20:   0%|\u001b[32m  \u001b[0m| 0/20 [00:19<?, ?it/s, Loss=0.375, P@10=0.075, R@10=0.0375]\u001b[0m\n",
      "Epoch 14/20:   0%|\u001b[32m \u001b[0m| 0/20 [00:19<?, ?it/s, Loss=0.325, P@10=0.0856, R@10=0.0428]\u001b[0m\n",
      "Epoch 15/20:   0%|\u001b[32m \u001b[0m| 0/20 [00:19<?, ?it/s, Loss=0.328, P@10=0.0868, R@10=0.0434]\u001b[0m\n",
      "Epoch 16/20:   0%|\u001b[32m   \u001b[0m| 0/20 [00:19<?, ?it/s, Loss=0.31, P@10=0.0861, R@10=0.043]\u001b[0m\n",
      "Epoch 17/20:   0%|\u001b[32m  \u001b[0m| 0/20 [00:20<?, ?it/s, Loss=0.294, P@10=0.087, R@10=0.0435]\u001b[0m\n",
      "Epoch 18/20:   0%|\u001b[32m    \u001b[0m| 0/20 [00:19<?, ?it/s, Loss=0.274, P@10=0.09, R@10=0.045]\u001b[0m\n",
      "Epoch 19/20:   0%|\u001b[32m  \u001b[0m| 0/20 [00:19<?, ?it/s, Loss=0.278, P@10=0.085, R@10=0.0425]\u001b[0m\n",
      "Epoch 20/20:   0%|\u001b[32m  \u001b[0m| 0/20 [00:19<?, ?it/s, Loss=0.272, P@10=0.091, R@10=0.0455]\u001b[0m\n",
      "INFO:\tmain:\tCompleted training for 20 epochs\n",
      "INFO:\tmain:\tModel saved at runs/run2/model.pth\n",
      "INFO:\tmain:\tCompleted run 2\n"
     ]
    }
   ],
   "source": [
    "! python code/src2/main.py --file_path /home/FYP/siddhant005/fyp/code/data/processed_timesteps/ml-100k/ --epoch_num 20"
   ]
  },
  {
   "cell_type": "code",
   "execution_count": null,
   "metadata": {},
   "outputs": [],
   "source": []
  }
 ],
 "metadata": {
  "kernelspec": {
   "display_name": "Python 3 (ipykernel)",
   "language": "python",
   "name": "python3"
  },
  "language_info": {
   "codemirror_mode": {
    "name": "ipython",
    "version": 3
   },
   "file_extension": ".py",
   "mimetype": "text/x-python",
   "name": "python",
   "nbconvert_exporter": "python",
   "pygments_lexer": "ipython3",
   "version": "3.10.13"
  }
 },
 "nbformat": 4,
 "nbformat_minor": 2
}
